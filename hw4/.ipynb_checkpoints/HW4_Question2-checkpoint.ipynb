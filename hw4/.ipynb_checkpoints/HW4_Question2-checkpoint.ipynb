{
 "cells": [
  {
   "cell_type": "code",
   "execution_count": 1,
   "metadata": {},
   "outputs": [],
   "source": [
    "import numpy as np\n",
    "import pandas as pd"
   ]
  },
  {
   "cell_type": "code",
   "execution_count": 2,
   "metadata": {},
   "outputs": [],
   "source": [
    "from sklearn import preprocessing \n",
    "from sklearn.model_selection import train_test_split\n",
    "from sklearn.linear_model import LogisticRegression\n",
    "from sklearn import metrics\n",
    "import matplotlib.pyplot as plt\n"
   ]
  },
  {
   "cell_type": "code",
   "execution_count": 3,
   "metadata": {},
   "outputs": [
    {
     "data": {
      "text/html": [
       "<div>\n",
       "<style scoped>\n",
       "    .dataframe tbody tr th:only-of-type {\n",
       "        vertical-align: middle;\n",
       "    }\n",
       "\n",
       "    .dataframe tbody tr th {\n",
       "        vertical-align: top;\n",
       "    }\n",
       "\n",
       "    .dataframe thead th {\n",
       "        text-align: right;\n",
       "    }\n",
       "</style>\n",
       "<table border=\"1\" class=\"dataframe\">\n",
       "  <thead>\n",
       "    <tr style=\"text-align: right;\">\n",
       "      <th></th>\n",
       "      <th>Age</th>\n",
       "      <th>RestBP</th>\n",
       "      <th>Chol</th>\n",
       "      <th>RestECG</th>\n",
       "      <th>MaxHR</th>\n",
       "      <th>Oldpeak</th>\n",
       "      <th>AHD</th>\n",
       "    </tr>\n",
       "  </thead>\n",
       "  <tbody>\n",
       "    <tr>\n",
       "      <th>0</th>\n",
       "      <td>63</td>\n",
       "      <td>145</td>\n",
       "      <td>233</td>\n",
       "      <td>2</td>\n",
       "      <td>150</td>\n",
       "      <td>2.3</td>\n",
       "      <td>No</td>\n",
       "    </tr>\n",
       "    <tr>\n",
       "      <th>1</th>\n",
       "      <td>67</td>\n",
       "      <td>160</td>\n",
       "      <td>286</td>\n",
       "      <td>2</td>\n",
       "      <td>108</td>\n",
       "      <td>1.5</td>\n",
       "      <td>Yes</td>\n",
       "    </tr>\n",
       "    <tr>\n",
       "      <th>2</th>\n",
       "      <td>67</td>\n",
       "      <td>120</td>\n",
       "      <td>229</td>\n",
       "      <td>2</td>\n",
       "      <td>129</td>\n",
       "      <td>2.6</td>\n",
       "      <td>Yes</td>\n",
       "    </tr>\n",
       "    <tr>\n",
       "      <th>3</th>\n",
       "      <td>37</td>\n",
       "      <td>130</td>\n",
       "      <td>250</td>\n",
       "      <td>0</td>\n",
       "      <td>187</td>\n",
       "      <td>3.5</td>\n",
       "      <td>No</td>\n",
       "    </tr>\n",
       "    <tr>\n",
       "      <th>4</th>\n",
       "      <td>41</td>\n",
       "      <td>130</td>\n",
       "      <td>204</td>\n",
       "      <td>2</td>\n",
       "      <td>172</td>\n",
       "      <td>1.4</td>\n",
       "      <td>No</td>\n",
       "    </tr>\n",
       "  </tbody>\n",
       "</table>\n",
       "</div>"
      ],
      "text/plain": [
       "   Age  RestBP  Chol  RestECG  MaxHR  Oldpeak  AHD\n",
       "0   63     145   233        2    150      2.3   No\n",
       "1   67     160   286        2    108      1.5  Yes\n",
       "2   67     120   229        2    129      2.6  Yes\n",
       "3   37     130   250        0    187      3.5   No\n",
       "4   41     130   204        2    172      1.4   No"
      ]
     },
     "execution_count": 3,
     "metadata": {},
     "output_type": "execute_result"
    }
   ],
   "source": [
    "df = pd.read_csv(\"Heart_short.csv\")\n",
    "df.head()"
   ]
  },
  {
   "cell_type": "code",
   "execution_count": 11,
   "metadata": {},
   "outputs": [],
   "source": [
    "#Setting up feture matrix and and target vector\n",
    "features = ['Age', 'RestBP', 'Chol', 'RestECG', 'MaxHR', 'Oldpeak']\n",
    "X = df[features] #feature matrix\n",
    "y = df['AHD'] #target vector\n",
    "\n",
    "#Normalizing the data\n",
    "scaled = preprocessing.scale(X)"
   ]
  },
  {
   "cell_type": "code",
   "execution_count": 12,
   "metadata": {},
   "outputs": [],
   "source": [
    "def categorical_to_numeric(x):\n",
    "    if x == 'no':\n",
    "        return 0\n",
    "    elif x == 'yes':\n",
    "        return 1"
   ]
  },
  {
   "cell_type": "code",
   "execution_count": null,
   "metadata": {},
   "outputs": [],
   "source": [
    "df['AHD'].apply(categorical_to_numeric)"
   ]
  },
  {
   "cell_type": "code",
   "execution_count": 5,
   "metadata": {},
   "outputs": [],
   "source": [
    "#splitting into testing and training data using the normalized data\n",
    "X_train, X_test, y_train, y_test = train_test_split(scaled, y, test_size=0.25, random_state=3)"
   ]
  },
  {
   "cell_type": "code",
   "execution_count": 6,
   "metadata": {},
   "outputs": [
    {
     "name": "stdout",
     "output_type": "stream",
     "text": [
      "Logistic Regression Accuracy: 0.7183098591549296\n"
     ]
    }
   ],
   "source": [
    "#predict using logistic regression\n",
    "\n",
    "#create the Logistic Regression Classifier\n",
    "lr = LogisticRegression()\n",
    "\n",
    "lr.fit(X_train, y_train)\n",
    "\n",
    "#predict y with logistic regression\n",
    "y_predict_lr = lr.predict(X_test)\n",
    "\n",
    "#get the logistic regression's score\n",
    "lr_score = metrics.accuracy_score(y_test, y_predict_lr)\n",
    "\n",
    "print(\"Logistic Regression Accuracy: \" + str(lr_score))"
   ]
  },
  {
   "cell_type": "code",
   "execution_count": 7,
   "metadata": {},
   "outputs": [],
   "source": [
    "y_predict_lr = lr.predict(X_test)\n",
    "y_predict_prob_lr = lr.predict_proba(X_test)\n"
   ]
  },
  {
   "cell_type": "code",
   "execution_count": 8,
   "metadata": {},
   "outputs": [
    {
     "name": "stdout",
     "output_type": "stream",
     "text": [
      "253     No\n",
      "74     Yes\n",
      "230     No\n",
      "38     Yes\n",
      "16     Yes\n",
      "66      No\n",
      "31     Yes\n",
      "123    Yes\n",
      "177    Yes\n",
      "175     No\n",
      "155    Yes\n",
      "259     No\n",
      "50      No\n",
      "82     Yes\n",
      "25      No\n",
      "73     Yes\n",
      "264    Yes\n",
      "162    Yes\n",
      "214    Yes\n",
      "270    Yes\n",
      "84     Yes\n",
      "157     No\n",
      "196     No\n",
      "46      No\n",
      "229    Yes\n",
      "193     No\n",
      "64      No\n",
      "65      No\n",
      "108     No\n",
      "252    Yes\n",
      "      ... \n",
      "58      No\n",
      "14      No\n",
      "266     No\n",
      "161     No\n",
      "225    Yes\n",
      "83      No\n",
      "205     No\n",
      "23     Yes\n",
      "43      No\n",
      "67      No\n",
      "24     Yes\n",
      "200     No\n",
      "61     Yes\n",
      "198     No\n",
      "247     No\n",
      "5       No\n",
      "136    Yes\n",
      "154     No\n",
      "145     No\n",
      "235     No\n",
      "208     No\n",
      "40      No\n",
      "102    Yes\n",
      "146    Yes\n",
      "168     No\n",
      "15      No\n",
      "78      No\n",
      "109     No\n",
      "122     No\n",
      "142     No\n",
      "Name: AHD, Length: 71, dtype: object\n",
      "['Yes' 'No' 'Yes' 'Yes' 'No' 'No' 'No' 'No' 'Yes' 'No' 'Yes' 'No' 'Yes'\n",
      " 'Yes' 'No' 'No' 'Yes' 'No' 'Yes' 'Yes' 'No' 'No' 'Yes' 'No' 'Yes' 'No'\n",
      " 'No' 'Yes' 'No' 'No' 'Yes' 'Yes' 'Yes' 'No' 'No' 'Yes' 'Yes' 'No' 'Yes'\n",
      " 'No' 'No' 'Yes' 'No' 'No' 'Yes' 'Yes' 'No' 'No' 'Yes' 'No' 'No' 'Yes'\n",
      " 'No' 'Yes' 'No' 'No' 'No' 'No' 'No' 'No' 'Yes' 'No' 'No' 'No' 'No' 'No'\n",
      " 'No' 'No' 'No' 'No' 'No']\n",
      "[[0.49586836 0.50413164]\n",
      " [0.54870108 0.45129892]\n",
      " [0.39328764 0.60671236]\n",
      " [0.39424916 0.60575084]\n",
      " [0.84455874 0.15544126]\n",
      " [0.76832764 0.23167236]\n",
      " [0.73250282 0.26749718]\n",
      " [0.86406691 0.13593309]\n",
      " [0.35332318 0.64667682]\n",
      " [0.66805116 0.33194884]\n",
      " [0.09460492 0.90539508]\n",
      " [0.91829354 0.08170646]\n",
      " [0.28850871 0.71149129]\n",
      " [0.42715824 0.57284176]\n",
      " [0.66512662 0.33487338]\n",
      " [0.85785441 0.14214559]\n",
      " [0.11475433 0.88524567]\n",
      " [0.68117767 0.31882233]\n",
      " [0.11147892 0.88852108]\n",
      " [0.33153413 0.66846587]\n",
      " [0.85263085 0.14736915]\n",
      " [0.86231834 0.13768166]\n",
      " [0.22342463 0.77657537]\n",
      " [0.92815698 0.07184302]\n",
      " [0.10821418 0.89178582]\n",
      " [0.57107784 0.42892216]\n",
      " [0.72691999 0.27308001]\n",
      " [0.42958482 0.57041518]\n",
      " [0.67507316 0.32492684]\n",
      " [0.77389653 0.22610347]\n",
      " [0.29866499 0.70133501]\n",
      " [0.10796704 0.89203296]\n",
      " [0.17379297 0.82620703]\n",
      " [0.89035618 0.10964382]\n",
      " [0.80793666 0.19206334]\n",
      " [0.01115265 0.98884735]\n",
      " [0.0665728  0.9334272 ]\n",
      " [0.73042503 0.26957497]\n",
      " [0.20338632 0.79661368]\n",
      " [0.51039256 0.48960744]\n",
      " [0.71464092 0.28535908]\n",
      " [0.30270526 0.69729474]\n",
      " [0.66060359 0.33939641]\n",
      " [0.81900994 0.18099006]\n",
      " [0.03350572 0.96649428]\n",
      " [0.33484733 0.66515267]\n",
      " [0.87356958 0.12643042]\n",
      " [0.85538319 0.14461681]\n",
      " [0.36501262 0.63498738]\n",
      " [0.5947325  0.4052675 ]\n",
      " [0.62694044 0.37305956]\n",
      " [0.19282965 0.80717035]\n",
      " [0.96029364 0.03970636]\n",
      " [0.22896802 0.77103198]\n",
      " [0.88699233 0.11300767]\n",
      " [0.80322762 0.19677238]\n",
      " [0.88627872 0.11372128]\n",
      " [0.64063195 0.35936805]\n",
      " [0.83560059 0.16439941]\n",
      " [0.76860133 0.23139867]\n",
      " [0.27578332 0.72421668]\n",
      " [0.82654162 0.17345838]\n",
      " [0.76430918 0.23569082]\n",
      " [0.6599794  0.3400206 ]\n",
      " [0.75356176 0.24643824]\n",
      " [0.87403481 0.12596519]\n",
      " [0.6922495  0.3077505 ]\n",
      " [0.92609182 0.07390818]\n",
      " [0.9048647  0.0951353 ]\n",
      " [0.76800111 0.23199889]\n",
      " [0.91602751 0.08397249]]\n",
      "[0.50413164 0.45129892 0.60671236 0.60575084 0.15544126 0.23167236\n",
      " 0.26749718 0.13593309 0.64667682 0.33194884 0.90539508 0.08170646\n",
      " 0.71149129 0.57284176 0.33487338 0.14214559 0.88524567 0.31882233\n",
      " 0.88852108 0.66846587 0.14736915 0.13768166 0.77657537 0.07184302\n",
      " 0.89178582 0.42892216 0.27308001 0.57041518 0.32492684 0.22610347\n",
      " 0.70133501 0.89203296 0.82620703 0.10964382 0.19206334 0.98884735\n",
      " 0.9334272  0.26957497 0.79661368 0.48960744 0.28535908 0.69729474\n",
      " 0.33939641 0.18099006 0.96649428 0.66515267 0.12643042 0.14461681\n",
      " 0.63498738 0.4052675  0.37305956 0.80717035 0.03970636 0.77103198\n",
      " 0.11300767 0.19677238 0.11372128 0.35936805 0.16439941 0.23139867\n",
      " 0.72421668 0.17345838 0.23569082 0.3400206  0.24643824 0.12596519\n",
      " 0.3077505  0.07390818 0.0951353  0.23199889 0.08397249]\n"
     ]
    }
   ],
   "source": [
    "# This line prints the \"actual label\" of the testing set:\n",
    "print(y_test)\n",
    "\n",
    "# This line prints the \"predicted label\" for the testing set:\n",
    "print(y_predict_lr)\n",
    "\n",
    "# This line prints the \"estimated likelihood of both label\" for the testing set:\n",
    "print(y_predict_prob_lr)\n",
    "\n",
    "# This line prints the \"estimated likelihood of label=1\" for the testing set:\n",
    "print(y_predict_prob_lr[:,1])"
   ]
  },
  {
   "cell_type": "code",
   "execution_count": 10,
   "metadata": {},
   "outputs": [
    {
     "name": "stdout",
     "output_type": "stream",
     "text": [
      "[0.         0.01408451 1.        ]\n",
      "[nan nan nan]\n"
     ]
    },
    {
     "name": "stderr",
     "output_type": "stream",
     "text": [
      "D:\\Users\\j05h1\\Anaconda3\\lib\\site-packages\\sklearn\\metrics\\ranking.py:571: UndefinedMetricWarning: No positive samples in y_true, true positive value should be meaningless\n",
      "  UndefinedMetricWarning)\n"
     ]
    }
   ],
   "source": [
    "fpr, tpr, thresholds = metrics.roc_curve(y_test, y_predict_prob_lr[:,1], pos_label=1)\n",
    "\n",
    "print(fpr)\n",
    "print(tpr)"
   ]
  },
  {
   "cell_type": "code",
   "execution_count": null,
   "metadata": {},
   "outputs": [],
   "source": []
  },
  {
   "cell_type": "code",
   "execution_count": null,
   "metadata": {},
   "outputs": [],
   "source": []
  },
  {
   "cell_type": "code",
   "execution_count": null,
   "metadata": {},
   "outputs": [],
   "source": []
  },
  {
   "cell_type": "code",
   "execution_count": null,
   "metadata": {},
   "outputs": [],
   "source": []
  },
  {
   "cell_type": "code",
   "execution_count": null,
   "metadata": {},
   "outputs": [],
   "source": []
  },
  {
   "cell_type": "code",
   "execution_count": null,
   "metadata": {},
   "outputs": [],
   "source": [
    "# AUC:\n",
    "AUC = metrics.auc(fpr, tpr)\n",
    "print(AUC)"
   ]
  },
  {
   "cell_type": "code",
   "execution_count": null,
   "metadata": {},
   "outputs": [],
   "source": []
  },
  {
   "cell_type": "code",
   "execution_count": null,
   "metadata": {},
   "outputs": [],
   "source": []
  },
  {
   "cell_type": "code",
   "execution_count": null,
   "metadata": {},
   "outputs": [],
   "source": []
  },
  {
   "cell_type": "code",
   "execution_count": null,
   "metadata": {},
   "outputs": [],
   "source": [
    "%matplotlib inline\n",
    "\n",
    "plt.figure()\n",
    "\n",
    "# Roc Curve:\n",
    "plt.plot(fpr, tpr, color='red', lw=2, \n",
    "         label='ROC Curve (area = %0.2f)' % AUC)\n",
    "\n",
    "# Random Guess line:\n",
    "plt.plot([0, 1], [0, 1], color='blue', lw=1, linestyle='--')\n",
    "\n",
    "# Defining The Range of X-Axis and Y-Axis:\n",
    "plt.xlim([-0.005, 1.005])\n",
    "plt.ylim([0.0, 1.01])\n",
    "\n",
    "# Labels, Title, Legend:\n",
    "plt.xlabel('False Positive Rate')\n",
    "plt.ylabel('True Positive Rate')\n",
    "plt.title('Receiver operating characteristic')\n",
    "plt.legend(loc=\"lower right\")\n",
    "\n",
    "plt.show()"
   ]
  },
  {
   "cell_type": "code",
   "execution_count": null,
   "metadata": {},
   "outputs": [],
   "source": []
  },
  {
   "cell_type": "code",
   "execution_count": null,
   "metadata": {},
   "outputs": [],
   "source": []
  }
 ],
 "metadata": {
  "kernelspec": {
   "display_name": "Python 3",
   "language": "python",
   "name": "python3"
  },
  "language_info": {
   "codemirror_mode": {
    "name": "ipython",
    "version": 3
   },
   "file_extension": ".py",
   "mimetype": "text/x-python",
   "name": "python",
   "nbconvert_exporter": "python",
   "pygments_lexer": "ipython3",
   "version": "3.6.5"
  }
 },
 "nbformat": 4,
 "nbformat_minor": 2
}
