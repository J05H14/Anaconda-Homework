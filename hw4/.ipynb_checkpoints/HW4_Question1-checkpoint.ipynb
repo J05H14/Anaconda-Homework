{
 "cells": [
  {
   "cell_type": "markdown",
   "metadata": {},
   "source": [
    "Importing all needed libraries"
   ]
  },
  {
   "cell_type": "code",
   "execution_count": 1,
   "metadata": {},
   "outputs": [],
   "source": [
    "import numpy as np\n",
    "import pandas as pd\n",
    "from sklearn.model_selection import train_test_split\n",
    "from sklearn.tree import DecisionTreeClassifier\n",
    "from sklearn.metrics import accuracy_score\n",
    "from sklearn.utils import resample\n",
    "from sklearn.ensemble import RandomForestClassifier\n",
    "from sklearn.ensemble import VotingClassifier"
   ]
  },
  {
   "cell_type": "markdown",
   "metadata": {},
   "source": [
    "PART A. Creating the pandas dataframe"
   ]
  },
  {
   "cell_type": "code",
   "execution_count": 2,
   "metadata": {},
   "outputs": [
    {
     "data": {
      "text/html": [
       "<div>\n",
       "<style scoped>\n",
       "    .dataframe tbody tr th:only-of-type {\n",
       "        vertical-align: middle;\n",
       "    }\n",
       "\n",
       "    .dataframe tbody tr th {\n",
       "        vertical-align: top;\n",
       "    }\n",
       "\n",
       "    .dataframe thead th {\n",
       "        text-align: right;\n",
       "    }\n",
       "</style>\n",
       "<table border=\"1\" class=\"dataframe\">\n",
       "  <thead>\n",
       "    <tr style=\"text-align: right;\">\n",
       "      <th></th>\n",
       "      <th>Clump_Thickness</th>\n",
       "      <th>Uniformity_of_Cell_Size</th>\n",
       "      <th>Uniformity_of_Cell_Shape</th>\n",
       "      <th>Marginal_Adhesion</th>\n",
       "      <th>Single_Epithelial_Cell_Size</th>\n",
       "      <th>Bare_Nuclei</th>\n",
       "      <th>Bland_Chromatin</th>\n",
       "      <th>Normal_Nucleoli</th>\n",
       "      <th>Mitoses</th>\n",
       "      <th>Malignant_Cancer</th>\n",
       "    </tr>\n",
       "  </thead>\n",
       "  <tbody>\n",
       "    <tr>\n",
       "      <th>0</th>\n",
       "      <td>5</td>\n",
       "      <td>1</td>\n",
       "      <td>1</td>\n",
       "      <td>1</td>\n",
       "      <td>2</td>\n",
       "      <td>1</td>\n",
       "      <td>3</td>\n",
       "      <td>1</td>\n",
       "      <td>1</td>\n",
       "      <td>0</td>\n",
       "    </tr>\n",
       "    <tr>\n",
       "      <th>1</th>\n",
       "      <td>5</td>\n",
       "      <td>4</td>\n",
       "      <td>4</td>\n",
       "      <td>5</td>\n",
       "      <td>7</td>\n",
       "      <td>10</td>\n",
       "      <td>3</td>\n",
       "      <td>2</td>\n",
       "      <td>1</td>\n",
       "      <td>0</td>\n",
       "    </tr>\n",
       "    <tr>\n",
       "      <th>2</th>\n",
       "      <td>3</td>\n",
       "      <td>1</td>\n",
       "      <td>1</td>\n",
       "      <td>1</td>\n",
       "      <td>2</td>\n",
       "      <td>2</td>\n",
       "      <td>3</td>\n",
       "      <td>1</td>\n",
       "      <td>1</td>\n",
       "      <td>0</td>\n",
       "    </tr>\n",
       "    <tr>\n",
       "      <th>3</th>\n",
       "      <td>6</td>\n",
       "      <td>8</td>\n",
       "      <td>8</td>\n",
       "      <td>1</td>\n",
       "      <td>3</td>\n",
       "      <td>4</td>\n",
       "      <td>3</td>\n",
       "      <td>7</td>\n",
       "      <td>1</td>\n",
       "      <td>0</td>\n",
       "    </tr>\n",
       "    <tr>\n",
       "      <th>4</th>\n",
       "      <td>4</td>\n",
       "      <td>1</td>\n",
       "      <td>1</td>\n",
       "      <td>3</td>\n",
       "      <td>2</td>\n",
       "      <td>1</td>\n",
       "      <td>3</td>\n",
       "      <td>1</td>\n",
       "      <td>1</td>\n",
       "      <td>0</td>\n",
       "    </tr>\n",
       "  </tbody>\n",
       "</table>\n",
       "</div>"
      ],
      "text/plain": [
       "   Clump_Thickness  Uniformity_of_Cell_Size  Uniformity_of_Cell_Shape  \\\n",
       "0                5                        1                         1   \n",
       "1                5                        4                         4   \n",
       "2                3                        1                         1   \n",
       "3                6                        8                         8   \n",
       "4                4                        1                         1   \n",
       "\n",
       "   Marginal_Adhesion  Single_Epithelial_Cell_Size  Bare_Nuclei  \\\n",
       "0                  1                            2            1   \n",
       "1                  5                            7           10   \n",
       "2                  1                            2            2   \n",
       "3                  1                            3            4   \n",
       "4                  3                            2            1   \n",
       "\n",
       "   Bland_Chromatin  Normal_Nucleoli  Mitoses  Malignant_Cancer  \n",
       "0                3                1        1                 0  \n",
       "1                3                2        1                 0  \n",
       "2                3                1        1                 0  \n",
       "3                3                7        1                 0  \n",
       "4                3                1        1                 0  "
      ]
     },
     "execution_count": 2,
     "metadata": {},
     "output_type": "execute_result"
    }
   ],
   "source": [
    "df = pd.read_csv(\"Cancer.csv\")\n",
    "df.head()"
   ]
  },
  {
   "cell_type": "markdown",
   "metadata": {},
   "source": [
    "PART B. Spliting the data into training and testing sets"
   ]
  },
  {
   "cell_type": "code",
   "execution_count": 3,
   "metadata": {},
   "outputs": [],
   "source": [
    "features = [\"Clump_Thickness\", \"Uniformity_of_Cell_Size\", \"Uniformity_of_Cell_Shape\", \"Marginal_Adhesion\", \"Single_Epithelial_Cell_Size\", \"Bare_Nuclei\", \"Bland_Chromatin\", \"Normal_Nucleoli\", \"Mitoses\"]\n",
    "X = df[features]\n",
    "y = df[\"Malignant_Cancer\"]\n",
    "X_train, X_test, y_train, y_test = train_test_split(X, y, test_size=0.35, random_state=3)"
   ]
  },
  {
   "cell_type": "markdown",
   "metadata": {},
   "source": [
    "PART C. Predict using Decision Tree Classifier and printing its accuracy"
   ]
  },
  {
   "cell_type": "code",
   "execution_count": 4,
   "metadata": {},
   "outputs": [
    {
     "name": "stdout",
     "output_type": "stream",
     "text": [
      "Accuracy Score: 0.8301886792452831\n"
     ]
    }
   ],
   "source": [
    "#creating the decision tree\n",
    "my_DecisionTree = DecisionTreeClassifier(random_state=3)\n",
    "#training the decision tree\n",
    "my_DecisionTree.fit(X_train, y_train)\n",
    "#predict y using decision tree\n",
    "y_predict_dt = my_DecisionTree.predict(X_test)\n",
    "#obtain score for decision tree\n",
    "dt_score = accuracy_score(y_test, y_predict_dt)\n",
    "print (\"Accuracy Score: \" + str(dt_score))"
   ]
  },
  {
   "cell_type": "markdown",
   "metadata": {},
   "source": [
    "PART D. Use Bagging and Voting to make a prediction based on 19 decision trees"
   ]
  },
  {
   "cell_type": "code",
   "execution_count": 49,
   "metadata": {},
   "outputs": [
    {
     "name": "stdout",
     "output_type": "stream",
     "text": [
      "Result of Voting: 0.9056603773584906\n"
     ]
    }
   ],
   "source": [
    "#Combining X_train and y_train because bootstrap_data will need the labels to train\n",
    "training = pd.concat([X_train, y_train], axis=1)\n",
    "prediction_results = [] #results of each prediction will go here\n",
    "\n",
    "bootstrap_size = int(0.8 * X_train['Clump_Thickness'].count())\n",
    "\n",
    "\n",
    "#for-loop to perform the bootstrapping\n",
    "for i in range (0,19):\n",
    "    bootstrap_data = resample(training, n_samples = bootstrap_size , random_state=i) #obtaining the bootstrap data\n",
    "    #separating the features with their labels for the bootstrap_data\n",
    "    bs_X = bootstrap_data[features]\n",
    "    bs_y = bootstrap_data['Malignant_Cancer']\n",
    "    #creating and traininf a decision tree using the bootstrap_data and predicting using those results\n",
    "    base_DecisionTree = DecisionTreeClassifier(random_state=3)\n",
    "    base_DecisionTree.fit(bs_X, bs_y)\n",
    "    base_y_predict = base_DecisionTree.predict(X_test)\n",
    "    prediction_results.append(base_y_predict) #appending each prediction to the list of predictions\n"
   ]
  },
  {
   "cell_type": "code",
   "execution_count": 71,
   "metadata": {},
   "outputs": [],
   "source": [
    "#Function to add the rows together\n",
    "def getMaj(row):\n",
    "    majority = 0\n",
    "    for i in range(19):\n",
    "        majority = majority + predict_df['Prediction_' + str(i)][row:row+1]\n",
    "    return majority"
   ]
  },
  {
   "cell_type": "code",
   "execution_count": 85,
   "metadata": {},
   "outputs": [
    {
     "name": "stdout",
     "output_type": "stream",
     "text": [
      "Accuracy through the use og Bagging/Voting: 0.9056603773584906\n"
     ]
    }
   ],
   "source": [
    "#Creating a new data frame containing the results of each prediction\n",
    "predict_df = pd.DataFrame()\n",
    "col = 19\n",
    "for i in range (len(prediction_results)):\n",
    "    predict_df['Prediction_' + str(i) ] = prediction_results[i]\n",
    "\n",
    "rows = predict_df['Prediction_0'].count()\n",
    "col = len(predict_df.columns)\n",
    "\n",
    "#List to keep track of the majority value of each row\n",
    "majority_res = []\n",
    "\n",
    "#Obtaining the majority for each row\n",
    "for i in range(53):\n",
    "    if int(getMaj(i)) > col/2:\n",
    "        majority_res.append(1)\n",
    "    else:\n",
    "        majority_res.append(0)\n",
    "\n",
    "#Adding the column in the prediction dataframe with all the majorities\n",
    "predict_df['Majority'] = majority_res\n",
    "\n",
    "#Calculating the score using the Majority obtained from voting\n",
    "maj_score = accuracy_score(y_test, predict_df['Majority'])\n",
    "print('Bagging/Voting Accuracy: ' + str(maj_score))"
   ]
  },
  {
   "cell_type": "markdown",
   "metadata": {},
   "source": [
    "PART E. Use the Random Forest Classifier to make the prediction and print the accuracy"
   ]
  },
  {
   "cell_type": "code",
   "execution_count": 6,
   "metadata": {},
   "outputs": [
    {
     "name": "stdout",
     "output_type": "stream",
     "text": [
      "Random Forest Score: 0.9245283018867925\n"
     ]
    }
   ],
   "source": [
    "#the random forest classifier\n",
    "my_RandomForest = RandomForestClassifier(n_estimators = 19, bootstrap = True, random_state=3)\n",
    "#Training and Predicting using Random Forest\n",
    "my_RandomForest.fit(X_train, y_train)\n",
    "y_predict_rf = my_RandomForest.predict(X_test)\n",
    "\n",
    "#calculating accuracy score of random forest\n",
    "rf_score = accuracy_score(y_test, y_predict_rf)\n",
    "\n",
    "#print random forest score\n",
    "print(\"Random Forest Score: \" + str(rf_score))\n"
   ]
  }
 ],
 "metadata": {
  "kernelspec": {
   "display_name": "Python 3",
   "language": "python",
   "name": "python3"
  },
  "language_info": {
   "codemirror_mode": {
    "name": "ipython",
    "version": 3
   },
   "file_extension": ".py",
   "mimetype": "text/x-python",
   "name": "python",
   "nbconvert_exporter": "python",
   "pygments_lexer": "ipython3",
   "version": "3.6.5"
  }
 },
 "nbformat": 4,
 "nbformat_minor": 2
}
