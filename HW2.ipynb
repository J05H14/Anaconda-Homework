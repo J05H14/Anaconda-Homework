{
 "cells": [
  {
   "cell_type": "code",
   "execution_count": 1,
   "metadata": {},
   "outputs": [],
   "source": [
    "#importing numpy and pandas\n",
    "import numpy as np\n",
    "import pandas as pd"
   ]
  },
  {
   "cell_type": "code",
   "execution_count": 2,
   "metadata": {},
   "outputs": [],
   "source": [
    "#reading the csv from \n",
    "df = pd.read_csv('https://raw.githubusercontent.com/mpourhoma/CS4661/master/iris.csv')\n",
    "\n",
    "#got the columns of fetures\n",
    "feature_cols = ['sepal_length','sepal_width','petal_length','petal_width']\n",
    "#data frame with the fetures\n",
    "X = df[feature_cols]  \n",
    "\n",
    "#data frame with labels\n",
    "y = df['species']\n"
   ]
  },
  {
   "cell_type": "code",
   "execution_count": 3,
   "metadata": {},
   "outputs": [],
   "source": [
    "#getting sklearn for spliting\n",
    "from sklearn.model_selection import train_test_split\n",
    "#spliting into testing and training sets\n",
    "X_train, X_test, y_train, y_test = train_test_split(X, y, test_size=0.4, random_state=6)"
   ]
  },
  {
   "cell_type": "code",
   "execution_count": 4,
   "metadata": {},
   "outputs": [],
   "source": [
    "#define k =3 for knn classifier\n",
    "k = 3"
   ]
  },
  {
   "cell_type": "code",
   "execution_count": 5,
   "metadata": {},
   "outputs": [
    {
     "name": "stdout",
     "output_type": "stream",
     "text": [
      "['setosa' 'virginica' 'setosa' 'setosa' 'virginica' 'versicolor'\n",
      " 'virginica' 'setosa' 'virginica' 'versicolor' 'virginica' 'versicolor'\n",
      " 'virginica' 'virginica' 'versicolor' 'versicolor' 'virginica'\n",
      " 'versicolor' 'versicolor' 'setosa' 'setosa' 'virginica' 'setosa' 'setosa'\n",
      " 'versicolor' 'virginica' 'versicolor' 'virginica' 'setosa' 'versicolor'\n",
      " 'setosa' 'versicolor' 'setosa' 'setosa' 'versicolor' 'virginica'\n",
      " 'versicolor' 'virginica' 'versicolor' 'setosa' 'setosa' 'virginica'\n",
      " 'versicolor' 'versicolor' 'setosa' 'setosa' 'versicolor' 'setosa'\n",
      " 'setosa' 'versicolor' 'virginica' 'virginica' 'virginica' 'setosa'\n",
      " 'virginica' 'setosa' 'setosa' 'setosa' 'versicolor' 'virginica']\n"
     ]
    }
   ],
   "source": [
    "#getting sklearn for neighbors\n",
    "from sklearn.neighbors import KNeighborsClassifier\n",
    "\n",
    "#the knn classifier\n",
    "knn_hw = KNeighborsClassifier(n_neighbors = k)\n",
    "\n",
    "#fitting\n",
    "knn_hw.fit(X,y)\n",
    "\n",
    "#predicting\n",
    "y_predict = knn_hw.predict(X_test)\n",
    "print(y_predict)"
   ]
  },
  {
   "cell_type": "code",
   "execution_count": 6,
   "metadata": {},
   "outputs": [
    {
     "name": "stdout",
     "output_type": "stream",
     "text": [
      "0.95\n"
     ]
    }
   ],
   "source": [
    "#get sklearn for getting the accuracy of the prediction\n",
    "from sklearn.metrics import accuracy_score\n",
    "score = accuracy_score(y_test, y_predict)\n",
    "print(score)"
   ]
  },
  {
   "cell_type": "code",
   "execution_count": 7,
   "metadata": {},
   "outputs": [
    {
     "name": "stdout",
     "output_type": "stream",
     "text": [
      "[1.0, 0.95, 0.9666666666666667, 0.9833333333333333, 0.9833333333333333, 1.0, 1.0, 1.0, 1.0, 1.0, 1.0, 1.0, 1.0, 1.0, 1.0, 0.9833333333333333, 0.9833333333333333, 0.9833333333333333, 0.9833333333333333, 0.9666666666666667, 0.9666666666666667, 0.95, 0.9333333333333333, 0.95, 0.9666666666666667, 0.95, 0.9666666666666667, 0.95, 0.95, 0.9333333333333333]\n"
     ]
    }
   ],
   "source": [
    "scores = []\n",
    "numbers = range(60)\n",
    "ks = range(1, 60, 2)\n",
    "X_train, X_test, y_train, y_test = train_test_split(X, y, test_size=0.4, random_state=6)\n",
    "#getting the accuracy score for each k from 1-59\n",
    "for k1 in ks:\n",
    "    #the knn classifier\n",
    "    knn_hw = KNeighborsClassifier(n_neighbors = k1)\n",
    "    #fitting\n",
    "    knn_hw.fit(X,y)\n",
    "    #predicting\n",
    "    y_predict = knn_hw.predict(X_test)\n",
    "    #calculating the accuracy score\n",
    "    score = accuracy_score(y_test, y_predict)\n",
    "    #appending the score to the list of them\n",
    "    scores.append(score)\n",
    "print (scores)\n",
    "\n",
    "#larger k doesnt mean more accurate results because eventually, you would reach neighbors so far away, \n",
    "#that it can influence the results and can sometimes result in incorrect and inaccurate results\n"
   ]
  },
  {
   "cell_type": "code",
   "execution_count": 13,
   "metadata": {},
   "outputs": [
    {
     "name": "stdout",
     "output_type": "stream",
     "text": [
      "Accuracy with sepal_length: 0.7666666666666667\n",
      "Accuracy with sepal_width: 0.5833333333333334\n",
      "Accuracy with petal_length: 0.9666666666666667\n",
      "Accuracy with petal_width: 0.95\n"
     ]
    }
   ],
   "source": [
    "#k still equals 3\n",
    "knn1 = KNeighborsClassifier(n_neighbors = k)\n",
    "\n",
    "#separating the features to seperate dataframes to make a prediction based on just one of them\n",
    "X_1 = df[['sepal_length']]\n",
    "X_2 = df[['sepal_width']]\n",
    "X_3 = df[['petal_length']]\n",
    "X_4 = df[['petal_width']]\n",
    "\n",
    "#trainning testing and scoring for just the \"sepal_length\" feature\n",
    "X_train, X_test, y_train, y_test = train_test_split(X_1, y, test_size=0.4, random_state=6) #getting training and testing data\n",
    "knn1.fit(X_1,y)\n",
    "y_predict = knn1.predict(X_test) #predicting test data based on training data\n",
    "score = accuracy_score(y_test, y_predict)\n",
    "print(\"Accuracy with sepal_length: \" + str(score))\n",
    "\n",
    "#trainning testing and scoring for just the \"sepal_width\" feature\n",
    "X_train, X_test, y_train, y_test = train_test_split(X_2, y, test_size=0.4, random_state=6)\n",
    "knn1.fit(X_2,y)\n",
    "y_predict = knn1.predict(X_test)\n",
    "score = accuracy_score(y_test, y_predict)\n",
    "print(\"Accuracy with sepal_width: \" + str(score))\n",
    "\n",
    "#trainning testing and scoring for just the \"petal_length\" feature\n",
    "X_train, X_test, y_train, y_test = train_test_split(X_3, y, test_size=0.4, random_state=6)\n",
    "knn1.fit(X_3,y)\n",
    "y_predict = knn1.predict(X_test)\n",
    "score = accuracy_score(y_test, y_predict)\n",
    "print(\"Accuracy with petal_length: \" + str(score))\n",
    "\n",
    "#trainning testing and scoring for just the \"petal_width\" feature\n",
    "X_train, X_test, y_train, y_test = train_test_split(X_4, y, test_size=0.4, random_state=6)\n",
    "knn1.fit(X_4,y)\n",
    "y_predict = knn1.predict(X_test)\n",
    "score = accuracy_score(y_test, y_predict)\n",
    "print(\"Accuracy with petal_width: \" + str(score))\n",
    "\n",
    "#petal_length is the best feature that brings the best accuracy for prdictions, with petal_width being a close second\n"
   ]
  },
  {
   "cell_type": "code",
   "execution_count": 17,
   "metadata": {},
   "outputs": [
    {
     "name": "stdout",
     "output_type": "stream",
     "text": [
      "Accuracy with sepal_length and sepal_width: 0.8333333333333334\n",
      "Accuracy with sepal_length and petal_length: 0.9833333333333333\n",
      "Accuracy with sepal_length and petal_width: 0.95\n",
      "Accuracy with sepal_width and petal_length: 0.9666666666666667\n",
      "Accuracy with sepal_width and petal_width: 0.9333333333333333\n",
      "Accuracy with petal_length and petal_width: 0.9833333333333333\n"
     ]
    }
   ],
   "source": [
    "#Feature Pairs\n",
    "X_12 = df[['sepal_length', 'sepal_width']]\n",
    "X_13 = df[['sepal_length', 'petal_length']]\n",
    "X_14 = df[['sepal_length', 'petal_width']]\n",
    "X_23 = df[['sepal_width', 'petal_length']]\n",
    "X_24 = df[['sepal_width', 'petal_width']]\n",
    "X_34 = df[['petal_length', 'petal_width']]\n",
    "\n",
    "\n",
    "\n",
    "#trainning testing and scoring for just the \"sepal_length\" and \"sepal_width\" feature pair\n",
    "X_train, X_test, y_train, y_test = train_test_split(X_12, y, test_size=0.4, random_state=6) #getting training and testing data\n",
    "knn1.fit(X_12,y)\n",
    "y_predict = knn1.predict(X_test) #predicting test data based on training data\n",
    "score = accuracy_score(y_test, y_predict)\n",
    "print(\"Accuracy with sepal_length and sepal_width: \" + str(score))#trainning testing and scoring for just the \"sepal_length\" and \"sepal_width\" feature pair\n",
    "\n",
    "#trainning testing and scoring for just the \"sepal_length\" and \"petal_length\" feature pair\n",
    "X_train, X_test, y_train, y_test = train_test_split(X_13, y, test_size=0.4, random_state=6) #getting training and testing data\n",
    "knn1.fit(X_13,y)\n",
    "y_predict = knn1.predict(X_test) #predicting test data based on training data\n",
    "score = accuracy_score(y_test, y_predict)\n",
    "print(\"Accuracy with sepal_length and petal_length: \" + str(score))\n",
    "\n",
    "#trainning testing and scoring for just the \"sepal_length\" and \"petal_width\" feature pair\n",
    "X_train, X_test, y_train, y_test = train_test_split(X_14, y, test_size=0.4, random_state=6) #getting training and testing data\n",
    "knn1.fit(X_14,y)\n",
    "y_predict = knn1.predict(X_test) #predicting test data based on training data\n",
    "score = accuracy_score(y_test, y_predict)\n",
    "print(\"Accuracy with sepal_length and petal_width: \" + str(score))\n",
    "\n",
    "#trainning testing and scoring for just the \"sepal_width\" and \"petal_length\" feature pair\n",
    "X_train, X_test, y_train, y_test = train_test_split(X_23, y, test_size=0.4, random_state=6) #getting training and testing data\n",
    "knn1.fit(X_23,y)\n",
    "y_predict = knn1.predict(X_test) #predicting test data based on training data\n",
    "score = accuracy_score(y_test, y_predict)\n",
    "print(\"Accuracy with sepal_width and petal_length: \" + str(score))\n",
    "\n",
    "#trainning testing and scoring for just the \"sepal_width\" and \"petal_width\" feature pair\n",
    "X_train, X_test, y_train, y_test = train_test_split(X_24, y, test_size=0.4, random_state=6) #getting training and testing data\n",
    "knn1.fit(X_24,y)\n",
    "y_predict = knn1.predict(X_test) #predicting test data based on training data\n",
    "score = accuracy_score(y_test, y_predict)\n",
    "print(\"Accuracy with sepal_width and petal_width: \" + str(score))\n",
    "\n",
    "#trainning testing and scoring for just the \"petal_length\" and \"petal_width\" feature pair\n",
    "X_train, X_test, y_train, y_test = train_test_split(X_34, y, test_size=0.4, random_state=6) #getting training and testing data\n",
    "knn1.fit(X_34,y)\n",
    "y_predict = knn1.predict(X_test) #predicting test data based on training data\n",
    "score = accuracy_score(y_test, y_predict)\n",
    "print(\"Accuracy with petal_length and petal_width: \" + str(score))"
   ]
  },
  {
   "cell_type": "code",
   "execution_count": null,
   "metadata": {},
   "outputs": [],
   "source": [
    "#The best feature pair is a tie between fetures 1+3 (sepal_length and petal_length) and 3+4 (petal_length and petal_width)\n",
    "#We can conclude that the two individual best features combined can provide the best feature pair"
   ]
  },
  {
   "cell_type": "code",
   "execution_count": null,
   "metadata": {},
   "outputs": [],
   "source": [
    "#We conclude that because from our testing data, those 2 features combined yeilded the best results.\n",
    "#However, because that feature pair was tied with another feature pair, we can also say that, while it is generally true that \n",
    "#the two best features make the a very good feature pair, we cannot say that it is the best because there are combinations \n",
    "#possible that can rival, and maybe surpass that feature pair in perhaps another set of testing and training data"
   ]
  },
  {
   "cell_type": "code",
   "execution_count": null,
   "metadata": {},
   "outputs": [],
   "source": []
  },
  {
   "cell_type": "code",
   "execution_count": null,
   "metadata": {},
   "outputs": [],
   "source": []
  },
  {
   "cell_type": "code",
   "execution_count": null,
   "metadata": {},
   "outputs": [],
   "source": []
  },
  {
   "cell_type": "code",
   "execution_count": null,
   "metadata": {},
   "outputs": [],
   "source": []
  },
  {
   "cell_type": "code",
   "execution_count": null,
   "metadata": {},
   "outputs": [],
   "source": []
  }
 ],
 "metadata": {
  "kernelspec": {
   "display_name": "Python 3",
   "language": "python",
   "name": "python3"
  },
  "language_info": {
   "codemirror_mode": {
    "name": "ipython",
    "version": 3
   },
   "file_extension": ".py",
   "mimetype": "text/x-python",
   "name": "python",
   "nbconvert_exporter": "python",
   "pygments_lexer": "ipython3",
   "version": "3.6.5"
  }
 },
 "nbformat": 4,
 "nbformat_minor": 2
}
