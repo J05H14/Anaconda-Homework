{
 "cells": [
  {
   "cell_type": "code",
   "execution_count": 1,
   "metadata": {},
   "outputs": [],
   "source": [
    "import numpy as np\n",
    "import pandas as pd"
   ]
  },
  {
   "cell_type": "code",
   "execution_count": 2,
   "metadata": {},
   "outputs": [],
   "source": [
    "df = pd.read_csv(\"Heart_s.csv\")"
   ]
  },
  {
   "cell_type": "code",
   "execution_count": 3,
   "metadata": {},
   "outputs": [
    {
     "name": "stdout",
     "output_type": "stream",
     "text": [
      "     Age Gender     ChestPain  RestBP  Chol  RestECG  MaxHR  Oldpeak  \\\n",
      "0     63      f       typical     145   233        2    150      2.3   \n",
      "1     67      f  asymptomatic     160   286        2    108      1.5   \n",
      "2     67      f  asymptomatic     120   229        2    129      2.6   \n",
      "3     37      f    nonanginal     130   250        0    187      3.5   \n",
      "4     41      m    nontypical     130   204        2    172      1.4   \n",
      "5     56      f    nontypical     120   236        0    178      0.8   \n",
      "6     62      m  asymptomatic     140   268        2    160      3.6   \n",
      "7     57      m  asymptomatic     120   354        0    163      0.6   \n",
      "8     63      f  asymptomatic     130   254        2    147      1.4   \n",
      "9     53      f  asymptomatic     140   203        2    155      3.1   \n",
      "10    57      f  asymptomatic     140   192        0    148      0.4   \n",
      "11    56      m    nontypical     140   294        2    153      1.3   \n",
      "12    56      f    nonanginal     130   256        2    142      0.6   \n",
      "13    44      f    nontypical     120   263        0    173      0.0   \n",
      "14    52      f    nonanginal     172   199        0    162      0.5   \n",
      "15    57      f    nonanginal     150   168        0    174      1.6   \n",
      "16    48      f    nontypical     110   229        0    168      1.0   \n",
      "17    54      f  asymptomatic     140   239        0    160      1.2   \n",
      "18    48      m    nonanginal     130   275        0    139      0.2   \n",
      "19    49      f    nontypical     130   266        0    171      0.6   \n",
      "20    64      f       typical     110   211        2    144      1.8   \n",
      "21    58      m       typical     150   283        2    162      1.0   \n",
      "22    58      f    nontypical     120   284        2    160      1.8   \n",
      "23    58      f    nonanginal     132   224        2    173      3.2   \n",
      "24    60      f  asymptomatic     130   206        2    132      2.4   \n",
      "25    50      m    nonanginal     120   219        0    158      1.6   \n",
      "26    58      m    nonanginal     120   340        0    172      0.0   \n",
      "27    66      m       typical     150   226        0    114      2.6   \n",
      "28    43      f  asymptomatic     150   247        0    171      1.5   \n",
      "29    40      f  asymptomatic     110   167        2    114      2.0   \n",
      "..   ...    ...           ...     ...   ...      ...    ...      ...   \n",
      "273   71      m  asymptomatic     112   149        0    125      1.6   \n",
      "274   59      f       typical     134   204        0    162      0.8   \n",
      "275   64      f       typical     170   227        2    155      0.6   \n",
      "276   66      m    nonanginal     146   278        2    152      0.0   \n",
      "277   39      m    nonanginal     138   220        0    152      0.0   \n",
      "278   57      f    nontypical     154   232        2    164      0.0   \n",
      "279   58      m  asymptomatic     130   197        0    131      0.6   \n",
      "280   57      f  asymptomatic     110   335        0    143      3.0   \n",
      "281   47      f    nonanginal     130   253        0    179      0.0   \n",
      "282   55      m  asymptomatic     128   205        1    130      2.0   \n",
      "283   35      f    nontypical     122   192        0    174      0.0   \n",
      "284   61      f  asymptomatic     148   203        0    161      0.0   \n",
      "285   58      f  asymptomatic     114   318        1    140      4.4   \n",
      "286   58      m  asymptomatic     170   225        2    146      2.8   \n",
      "287   58      f    nontypical     125   220        0    144      0.4   \n",
      "288   56      f    nontypical     130   221        2    163      0.0   \n",
      "289   56      f    nontypical     120   240        0    169      0.0   \n",
      "290   67      f    nonanginal     152   212        2    150      0.8   \n",
      "291   55      m    nontypical     132   342        0    166      1.2   \n",
      "292   44      f  asymptomatic     120   169        0    144      2.8   \n",
      "293   63      f  asymptomatic     140   187        2    144      4.0   \n",
      "294   63      m  asymptomatic     124   197        0    136      0.0   \n",
      "295   41      f    nontypical     120   157        0    182      0.0   \n",
      "296   59      f  asymptomatic     164   176        2     90      1.0   \n",
      "297   57      m  asymptomatic     140   241        0    123      0.2   \n",
      "298   45      f       typical     110   264        0    132      1.2   \n",
      "299   68      f  asymptomatic     144   193        0    141      3.4   \n",
      "300   57      f  asymptomatic     130   131        0    115      1.2   \n",
      "301   57      m    nontypical     130   236        2    174      0.0   \n",
      "302   38      f    nonanginal     138   175        0    173      0.0   \n",
      "\n",
      "           Thal  AHD  \n",
      "0         fixed   No  \n",
      "1        normal  Yes  \n",
      "2    reversable  Yes  \n",
      "3        normal   No  \n",
      "4        normal   No  \n",
      "5        normal   No  \n",
      "6        normal  Yes  \n",
      "7        normal   No  \n",
      "8    reversable  Yes  \n",
      "9    reversable  Yes  \n",
      "10        fixed   No  \n",
      "11       normal   No  \n",
      "12        fixed  Yes  \n",
      "13   reversable   No  \n",
      "14   reversable   No  \n",
      "15       normal   No  \n",
      "16   reversable  Yes  \n",
      "17       normal   No  \n",
      "18       normal   No  \n",
      "19       normal   No  \n",
      "20       normal   No  \n",
      "21       normal   No  \n",
      "22       normal  Yes  \n",
      "23   reversable  Yes  \n",
      "24   reversable  Yes  \n",
      "25       normal   No  \n",
      "26       normal   No  \n",
      "27       normal   No  \n",
      "28       normal   No  \n",
      "29   reversable  Yes  \n",
      "..          ...  ...  \n",
      "273      normal   No  \n",
      "274      normal  Yes  \n",
      "275  reversable   No  \n",
      "276      normal   No  \n",
      "277      normal   No  \n",
      "278      normal  Yes  \n",
      "279      normal   No  \n",
      "280  reversable  Yes  \n",
      "281      normal   No  \n",
      "282  reversable  Yes  \n",
      "283      normal   No  \n",
      "284  reversable  Yes  \n",
      "285       fixed  Yes  \n",
      "286       fixed  Yes  \n",
      "287  reversable   No  \n",
      "288  reversable   No  \n",
      "289      normal   No  \n",
      "290  reversable  Yes  \n",
      "291      normal   No  \n",
      "292       fixed  Yes  \n",
      "293  reversable  Yes  \n",
      "294      normal  Yes  \n",
      "295      normal   No  \n",
      "296       fixed  Yes  \n",
      "297  reversable  Yes  \n",
      "298  reversable  Yes  \n",
      "299  reversable  Yes  \n",
      "300  reversable  Yes  \n",
      "301      normal  Yes  \n",
      "302      normal   No  \n",
      "\n",
      "[303 rows x 10 columns]\n"
     ]
    }
   ],
   "source": [
    "print(df) # print dataframe to see the contents of it"
   ]
  },
  {
   "cell_type": "code",
   "execution_count": 4,
   "metadata": {},
   "outputs": [],
   "source": [
    "#got the columns of fetures\n",
    "num_feature_cols = ['Age','RestBP','Chol','RestECG', 'MaxHR', 'Oldpeak']\n",
    "#data frame with the fetures\n",
    "X = df[num_feature_cols]  \n",
    "\n",
    "#series with labels\n",
    "y = df['AHD']\n",
    "\n",
    "#getting sklearn for spliting\n",
    "from sklearn.model_selection import train_test_split\n",
    "#splitting the data into trainning and test\n",
    "X_train, X_test, y_train, y_test = train_test_split(X, y, test_size=0.25, random_state=4)"
   ]
  },
  {
   "cell_type": "code",
   "execution_count": 5,
   "metadata": {},
   "outputs": [
    {
     "name": "stdout",
     "output_type": "stream",
     "text": [
      "['Yes' 'Yes' 'No' 'No' 'Yes' 'Yes' 'Yes' 'No' 'No' 'Yes' 'No' 'No' 'No'\n",
      " 'Yes' 'No' 'Yes' 'Yes' 'Yes' 'No' 'No' 'No' 'No' 'Yes' 'Yes' 'Yes' 'No'\n",
      " 'Yes' 'Yes' 'Yes' 'No' 'Yes' 'No' 'No' 'No' 'No' 'No' 'Yes' 'Yes' 'No'\n",
      " 'No' 'No' 'No' 'Yes' 'No' 'Yes' 'Yes' 'Yes' 'Yes' 'Yes' 'No' 'No' 'Yes'\n",
      " 'Yes' 'Yes' 'Yes' 'No' 'Yes' 'No' 'No' 'No' 'No' 'No' 'No' 'No' 'No' 'No'\n",
      " 'Yes' 'Yes' 'Yes' 'No' 'Yes' 'Yes' 'No' 'Yes' 'No' 'No']\n",
      "0.6447368421052632\n"
     ]
    }
   ],
   "source": [
    "#predict using knn classifier\n",
    "\n",
    "#import the k neighbors classifier from sklearn\n",
    "from sklearn.neighbors import KNeighborsClassifier\n",
    "\n",
    "k = 3 #set k = 3\n",
    "\n",
    "knn = KNeighborsClassifier(n_neighbors = k)\n",
    "\n",
    "#fitting\n",
    "knn.fit(X_train, y_train)\n",
    "\n",
    "#predicting y\n",
    "y_predict_knn = knn.predict(X_test)\n",
    "print(y_predict)\n",
    "\n",
    "#get sklearn for getting the accuracy of the prediction\n",
    "from sklearn.metrics import accuracy_score\n",
    "#using the accuracy_score function to find out how accurate the knn was\n",
    "knn_score = accuracy_score(y_test, y_predict_knn)\n",
    "#printing out the score\n",
    "print(knn_score)"
   ]
  },
  {
   "cell_type": "code",
   "execution_count": 13,
   "metadata": {},
   "outputs": [
    {
     "name": "stdout",
     "output_type": "stream",
     "text": [
      "0.618421052631579\n"
     ]
    }
   ],
   "source": [
    "#predict using decision tree classifier\n",
    "\n",
    "#import the decision tree classifier from sklearn\n",
    "from sklearn.tree import DecisionTreeClassifier\n",
    "\n",
    "#creating the decision tree\n",
    "dt = DecisionTreeClassifier(random_state=5)\n",
    "\n",
    "dt.fit(X_train, y_train)\n",
    "\n",
    "y_predict_dt = dt.predict(X_test)\n",
    "\n",
    "dt_score = accuracy_score(y_test, y_predict_dt)\n",
    "\n",
    "print(dt_score)"
   ]
  },
  {
   "cell_type": "code",
   "execution_count": 11,
   "metadata": {},
   "outputs": [
    {
     "name": "stdout",
     "output_type": "stream",
     "text": [
      "0.7368421052631579\n"
     ]
    }
   ],
   "source": [
    "#predict using logistic regression\n",
    "\n",
    "#import logistic regression from sklearn\n",
    "from sklearn.linear_model import LogisticRegression\n",
    "\n",
    "#create the Logistic Regression Classifier\n",
    "lr = LogisticRegression()\n",
    "\n",
    "lr.fit(X_train, y_train)\n",
    "\n",
    "y_predict_lr = lr.predict(X_test)\n",
    "\n",
    "lr_score = accuracy_score(y_test, y_predict_lr)\n",
    "\n",
    "print(lr_score)"
   ]
  },
  {
   "cell_type": "code",
   "execution_count": 56,
   "metadata": {},
   "outputs": [
    {
     "name": "stdout",
     "output_type": "stream",
     "text": [
      "[0, 0, 0, 0, 1, 0, 1, 1, 0, 0, 0, 1, 0, 0, 0, 0, 0, 0, 1, 0, 0, 1, 0, 0, 0, 1, 1, 1, 0, 0, 1, 0, 0, 0, 0, 0, 0, 0, 0, 0, 1, 0, 1, 0, 1, 0, 0, 0, 1, 0, 1, 0, 0, 0, 0, 0, 0, 0, 0, 0, 1, 1, 0, 1, 0, 0, 0, 0, 0, 0, 1, 0, 0, 0, 0, 1, 0, 1, 0, 0, 0, 1, 0, 0, 0, 0, 0, 1, 1, 1, 0, 1, 0, 1, 1, 0, 0, 1, 0, 0, 0, 0, 1, 1, 0, 0, 0, 0, 0, 0, 1, 0, 0, 1, 1, 0, 0, 1, 0, 0, 0, 1, 0, 0, 0, 1, 1, 0, 0, 1, 0, 0, 0, 0, 1, 1, 0, 0, 0, 0, 0, 0, 0, 0, 0, 0, 0, 0, 0, 1, 0, 1, 1, 0, 0, 0, 0, 0, 0, 0, 0, 0, 1, 1, 0, 0, 0, 1, 0, 1, 0, 0, 1, 1, 0, 0, 0, 0, 0, 0, 0, 1, 0, 0, 1, 1, 0, 0, 0, 0, 0, 0, 0, 1, 1, 0, 0, 1, 1, 0, 1, 1, 0, 1, 0, 0, 0, 0, 0, 1, 1, 0, 0, 1, 0, 0, 1, 1, 1, 0, 1, 1, 1, 0, 1, 1, 0, 1, 0, 0, 1, 1, 0, 1, 1, 0, 0, 0, 1, 0, 0, 1, 1, 0, 1, 0, 0, 0, 0, 0, 0, 0, 0, 1, 0, 1, 1, 1, 0, 0, 1, 1, 1, 0, 0, 0, 0, 0, 0, 0, 0, 0, 0, 1, 0, 0, 1, 1, 0, 1, 0, 0, 1, 0, 0, 0, 1, 0, 0, 0, 0, 1, 0, 0, 1, 0, 0, 1, 0, 0, 0, 1, 0]\n"
     ]
    }
   ],
   "source": [
    "#OneHotEncoding\n",
    "\n",
    "#function to change the value of a column into a numeric\n",
    "def change_to_numeric(data, value):\n",
    "    numeric_list = list()\n",
    "    for item in data:\n",
    "        if item == value:\n",
    "            numeric_list.append(1)\n",
    "        else:\n",
    "            numeric_list.append(0)\n",
    "    return numeric_list\n"
   ]
  },
  {
   "cell_type": "code",
   "execution_count": null,
   "metadata": {},
   "outputs": [],
   "source": []
  },
  {
   "cell_type": "code",
   "execution_count": 60,
   "metadata": {},
   "outputs": [
    {
     "name": "stdout",
     "output_type": "stream",
     "text": [
      "[0, 1, 0, 1, 1, 1, 1, 1, 0, 0, 0, 1, 0, 0, 0, 1, 0, 1, 1, 1, 1, 1, 1, 0, 0, 1, 1, 1, 1, 0, 1, 0, 1, 0, 1, 1, 0, 0, 0, 1, 0, 0, 1, 1, 1, 0, 1, 0, 1, 1, 1, 0, 1, 1, 0, 0, 0, 0, 1, 1, 0, 1, 0, 1, 0, 0, 1, 0, 0, 1, 1, 0, 0, 0, 1, 1, 0, 1, 1, 0, 1, 1, 1, 0, 1, 1, 1, 0, 1, 1, 1, 0, 0, 1, 1, 0, 0, 0, 1, 1, 1, 1, 1, 1, 0, 0, 0, 0, 0, 0, 0, 1, 0, 0, 0, 0, 1, 1, 0, 0, 0, 0, 1, 0, 1, 1, 0, 0, 1, 1, 0, 0, 1, 1, 1, 1, 0, 0, 0, 1, 1, 0, 1, 0, 0, 1, 0, 1, 1, 1, 0, 1, 0, 0, 1, 1, 0, 0, 0, 0, 0, 1, 1, 1, 1, 0, 1, 1, 0, 1, 0, 0, 1, 1, 0, 0, 0, 0, 1, 1, 0, 0, 1, 0, 1, 1, 0, 0, 0, 0, 1, 0, 0, 1, 1, 1, 1, 1, 1, 1, 1, 1, 0, 0, 0, 0, 0, 0, 1, 1, 1, 0, 1, 0, 1, 0, 1, 1, 1, 1, 1, 1, 1, 0, 1, 1, 1, 1, 1, 1, 1, 1, 1, 1, 1, 1, 0, 0, 1, 1, 1, 1, 1, 1, 1, 1, 0, 1, 0, 1, 0, 0, 0, 1, 1, 1, 1, 1, 1, 0, 1, 1, 1, 1, 1, 0, 0, 0, 0, 1, 0, 0, 0, 1, 1, 0, 1, 1, 1, 1, 0, 1, 0, 1, 0, 0, 0, 0, 0, 1, 0, 1, 0, 0, 1, 1, 0, 0, 0, 0, 0, 1, 1]\n"
     ]
    }
   ],
   "source": [
    "#change values of genders into numeric\n",
    "ohe_gender_m = change_to_numeric(df['Gender'], 'm')\n",
    "ohe_gender_f = change_to_numeric(df['Gender'], 'f')\n",
    "\n",
    "#combining the two lists into a single dataframe        \n",
    "df_gender = pd.DataFrame({'male':ohe_gender_m, 'female':ohe_gender_f})\n",
    "\n",
    "#changing chest pain into numerical values\n",
    "ohe_pain_typ = change_to_numeric(df['ChestPain'], 'typical')\n",
    "ohe_pain_asym = change_to_numeric(df['ChestPain'], 'asymptomatic')\n",
    "ohe_pain_nona = change_to_numeric(df['ChestPain'], 'nonanginal')\n",
    "ohe_pain_nont = change_to_numeric(df['ChestPain'], 'nontypical')\n",
    "        \n",
    "df_chest = pd.DataFrame({'typical':ohe_pain_typ, 'asymptomatic':ohe_pain_asym, 'nonangial':ohe_pain_nona, 'nontypical':ohe_pain_nont})\n",
    "\n",
    "#changing Thal into numerical values\n",
    "ohe_thal_normal = change_to_numeric(df['Thal'], 'normal')\n",
    "ohe_thal_fix = change_to_numeric(df['Thal'], 'fixed')\n",
    "ohe_thal_rev = change_to_numeric(df['Thal'], 'reversable')\n",
    "\n",
    "df_thal = pd.DataFrame({'normal':ohe_thal_normal, 'fixed':ohe_thal_fix, 'reversable':ohe_thal_rev})\n",
    "\n",
    "print()"
   ]
  },
  {
   "cell_type": "code",
   "execution_count": null,
   "metadata": {},
   "outputs": [],
   "source": []
  },
  {
   "cell_type": "code",
   "execution_count": null,
   "metadata": {},
   "outputs": [],
   "source": []
  },
  {
   "cell_type": "code",
   "execution_count": null,
   "metadata": {},
   "outputs": [],
   "source": []
  },
  {
   "cell_type": "code",
   "execution_count": null,
   "metadata": {},
   "outputs": [],
   "source": []
  },
  {
   "cell_type": "code",
   "execution_count": null,
   "metadata": {},
   "outputs": [],
   "source": []
  },
  {
   "cell_type": "code",
   "execution_count": null,
   "metadata": {},
   "outputs": [],
   "source": []
  },
  {
   "cell_type": "code",
   "execution_count": null,
   "metadata": {},
   "outputs": [],
   "source": []
  },
  {
   "cell_type": "code",
   "execution_count": null,
   "metadata": {},
   "outputs": [],
   "source": []
  },
  {
   "cell_type": "code",
   "execution_count": null,
   "metadata": {},
   "outputs": [],
   "source": []
  },
  {
   "cell_type": "code",
   "execution_count": null,
   "metadata": {},
   "outputs": [],
   "source": []
  },
  {
   "cell_type": "code",
   "execution_count": null,
   "metadata": {},
   "outputs": [],
   "source": []
  },
  {
   "cell_type": "code",
   "execution_count": null,
   "metadata": {},
   "outputs": [],
   "source": []
  },
  {
   "cell_type": "code",
   "execution_count": null,
   "metadata": {},
   "outputs": [],
   "source": []
  },
  {
   "cell_type": "code",
   "execution_count": null,
   "metadata": {},
   "outputs": [],
   "source": []
  },
  {
   "cell_type": "code",
   "execution_count": null,
   "metadata": {},
   "outputs": [],
   "source": []
  },
  {
   "cell_type": "code",
   "execution_count": null,
   "metadata": {},
   "outputs": [],
   "source": []
  },
  {
   "cell_type": "code",
   "execution_count": null,
   "metadata": {},
   "outputs": [],
   "source": []
  },
  {
   "cell_type": "code",
   "execution_count": null,
   "metadata": {},
   "outputs": [],
   "source": []
  },
  {
   "cell_type": "code",
   "execution_count": null,
   "metadata": {},
   "outputs": [],
   "source": []
  },
  {
   "cell_type": "code",
   "execution_count": null,
   "metadata": {},
   "outputs": [],
   "source": []
  },
  {
   "cell_type": "code",
   "execution_count": null,
   "metadata": {},
   "outputs": [],
   "source": []
  },
  {
   "cell_type": "code",
   "execution_count": null,
   "metadata": {},
   "outputs": [],
   "source": []
  },
  {
   "cell_type": "code",
   "execution_count": null,
   "metadata": {},
   "outputs": [],
   "source": []
  },
  {
   "cell_type": "code",
   "execution_count": null,
   "metadata": {},
   "outputs": [],
   "source": []
  },
  {
   "cell_type": "code",
   "execution_count": null,
   "metadata": {},
   "outputs": [],
   "source": []
  },
  {
   "cell_type": "code",
   "execution_count": null,
   "metadata": {},
   "outputs": [],
   "source": []
  },
  {
   "cell_type": "code",
   "execution_count": null,
   "metadata": {},
   "outputs": [],
   "source": []
  },
  {
   "cell_type": "code",
   "execution_count": null,
   "metadata": {},
   "outputs": [],
   "source": []
  },
  {
   "cell_type": "code",
   "execution_count": null,
   "metadata": {},
   "outputs": [],
   "source": []
  },
  {
   "cell_type": "code",
   "execution_count": null,
   "metadata": {},
   "outputs": [],
   "source": []
  },
  {
   "cell_type": "code",
   "execution_count": null,
   "metadata": {},
   "outputs": [],
   "source": []
  },
  {
   "cell_type": "code",
   "execution_count": null,
   "metadata": {},
   "outputs": [],
   "source": []
  },
  {
   "cell_type": "code",
   "execution_count": null,
   "metadata": {},
   "outputs": [],
   "source": []
  },
  {
   "cell_type": "code",
   "execution_count": null,
   "metadata": {},
   "outputs": [],
   "source": []
  },
  {
   "cell_type": "code",
   "execution_count": null,
   "metadata": {},
   "outputs": [],
   "source": []
  },
  {
   "cell_type": "code",
   "execution_count": null,
   "metadata": {},
   "outputs": [],
   "source": []
  },
  {
   "cell_type": "code",
   "execution_count": null,
   "metadata": {},
   "outputs": [],
   "source": []
  },
  {
   "cell_type": "code",
   "execution_count": null,
   "metadata": {},
   "outputs": [],
   "source": []
  },
  {
   "cell_type": "code",
   "execution_count": null,
   "metadata": {},
   "outputs": [],
   "source": []
  },
  {
   "cell_type": "code",
   "execution_count": null,
   "metadata": {},
   "outputs": [],
   "source": []
  },
  {
   "cell_type": "code",
   "execution_count": null,
   "metadata": {},
   "outputs": [],
   "source": []
  },
  {
   "cell_type": "code",
   "execution_count": null,
   "metadata": {},
   "outputs": [],
   "source": []
  },
  {
   "cell_type": "code",
   "execution_count": null,
   "metadata": {},
   "outputs": [],
   "source": []
  },
  {
   "cell_type": "code",
   "execution_count": null,
   "metadata": {},
   "outputs": [],
   "source": []
  },
  {
   "cell_type": "code",
   "execution_count": null,
   "metadata": {},
   "outputs": [],
   "source": []
  },
  {
   "cell_type": "code",
   "execution_count": null,
   "metadata": {},
   "outputs": [],
   "source": []
  },
  {
   "cell_type": "code",
   "execution_count": null,
   "metadata": {},
   "outputs": [],
   "source": []
  },
  {
   "cell_type": "code",
   "execution_count": null,
   "metadata": {},
   "outputs": [],
   "source": []
  },
  {
   "cell_type": "code",
   "execution_count": null,
   "metadata": {},
   "outputs": [],
   "source": []
  },
  {
   "cell_type": "code",
   "execution_count": null,
   "metadata": {},
   "outputs": [],
   "source": []
  },
  {
   "cell_type": "code",
   "execution_count": null,
   "metadata": {},
   "outputs": [],
   "source": []
  },
  {
   "cell_type": "code",
   "execution_count": null,
   "metadata": {},
   "outputs": [],
   "source": []
  },
  {
   "cell_type": "code",
   "execution_count": null,
   "metadata": {},
   "outputs": [],
   "source": []
  },
  {
   "cell_type": "code",
   "execution_count": null,
   "metadata": {},
   "outputs": [],
   "source": []
  },
  {
   "cell_type": "code",
   "execution_count": null,
   "metadata": {},
   "outputs": [],
   "source": []
  },
  {
   "cell_type": "code",
   "execution_count": null,
   "metadata": {},
   "outputs": [],
   "source": []
  },
  {
   "cell_type": "code",
   "execution_count": null,
   "metadata": {},
   "outputs": [],
   "source": []
  },
  {
   "cell_type": "code",
   "execution_count": null,
   "metadata": {},
   "outputs": [],
   "source": []
  },
  {
   "cell_type": "code",
   "execution_count": null,
   "metadata": {},
   "outputs": [],
   "source": []
  }
 ],
 "metadata": {
  "kernelspec": {
   "display_name": "Python 3",
   "language": "python",
   "name": "python3"
  },
  "language_info": {
   "codemirror_mode": {
    "name": "ipython",
    "version": 3
   },
   "file_extension": ".py",
   "mimetype": "text/x-python",
   "name": "python",
   "nbconvert_exporter": "python",
   "pygments_lexer": "ipython3",
   "version": "3.6.5"
  }
 },
 "nbformat": 4,
 "nbformat_minor": 2
}
