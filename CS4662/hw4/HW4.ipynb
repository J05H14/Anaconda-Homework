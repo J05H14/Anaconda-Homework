{
 "cells": [
  {
   "cell_type": "markdown",
   "metadata": {},
   "source": [
    "# Advanced Topics in Data Science (CS5661). Cal State Univ. LA, CS Dept.\n",
    "### Dr. Mohammad Porhoumayoun\n",
    "----------------------------------------------------------------------------------------------\n",
    "----------------------------------------------------------------------------------------------"
   ]
  },
  {
   "cell_type": "markdown",
   "metadata": {},
   "source": [
    "## Deep Convolutional Neural Networks (CNN) with Keras + TensorFlow\n",
    "----------------------------------------------------------------------------------------------\n",
    "----------------------------------------------------------------------------------------------"
   ]
  },
  {
   "cell_type": "code",
   "execution_count": null,
   "metadata": {},
   "outputs": [],
   "source": []
  },
  {
   "cell_type": "code",
   "execution_count": 1,
   "metadata": {},
   "outputs": [
    {
     "name": "stderr",
     "output_type": "stream",
     "text": [
      "Using TensorFlow backend.\n"
     ]
    }
   ],
   "source": [
    "\n",
    "# \"Sequential\" model lets us to define a stack of neural network layers\n",
    "from keras.models import Sequential\n",
    "\n",
    "# import the \"core\" layers:\n",
    "from keras.layers import Dense, Dropout, Activation, Flatten\n",
    "\n",
    "# CNN\n",
    "from keras.layers import Convolution2D, MaxPooling2D\n",
    "\n",
    "# import some utilities to transform our data\n",
    "from keras.utils import np_utils\n",
    "\n",
    "import numpy as np\n"
   ]
  },
  {
   "cell_type": "markdown",
   "metadata": {},
   "source": [
    "## Let's use the Fashion-MNIST Dataset including 60,000 28x28 grayscale images of 10 fashion categories, along with a test set of 10,000 images:\n",
    "\n",
    "0:\tT-shirt/top, \n",
    "1:\tTrouser,\n",
    "2:\tPullover,\n",
    "3:\tDress,\n",
    "4:\tCoat,\n",
    "5:\tSandal,\n",
    "6:\tShirt,\n",
    "7:\tSneaker,\n",
    "8:\tBag,\n",
    "9:\tAnkle boot "
   ]
  },
  {
   "cell_type": "code",
   "execution_count": 2,
   "metadata": {},
   "outputs": [],
   "source": [
    "# Keras will download MNIST dataset for us:\n",
    "from keras.datasets import fashion_mnist\n",
    " \n",
    "# By default, the first 60k of MNIST has been defined as training and the rest as testing set: \n",
    "(X_train, y_train), (X_test, y_test) = fashion_mnist.load_data()"
   ]
  },
  {
   "cell_type": "code",
   "execution_count": 3,
   "metadata": {},
   "outputs": [
    {
     "name": "stdout",
     "output_type": "stream",
     "text": [
      "(60000, 28, 28)\n",
      "(10000, 28, 28)\n"
     ]
    }
   ],
   "source": [
    "print(X_train.shape)\n",
    "print(X_test.shape)"
   ]
  },
  {
   "cell_type": "code",
   "execution_count": 4,
   "metadata": {},
   "outputs": [
    {
     "data": {
      "image/png": "[encoded data removed]",
      "text/plain": [
       "<Figure size 432x288 with 1 Axes>"
      ]
     },
     "metadata": {
      "needs_background": "light"
     },
     "output_type": "display_data"
    },
    {
     "data": {
      "image/png": "[encoded data removed]",
      "text/plain": [
       "<Figure size 432x288 with 1 Axes>"
      ]
     },
     "metadata": {
      "needs_background": "light"
     },
     "output_type": "display_data"
    },
    {
     "data": {
      "image/png": "[encoded data removed]",
      "text/plain": [
       "<Figure size 432x288 with 1 Axes>"
      ]
     },
     "metadata": {
      "needs_background": "light"
     },
     "output_type": "display_data"
    },
    {
     "data": {
      "image/png": "[encoded data removed]",
      "text/plain": [
       "<Figure size 432x288 with 1 Axes>"
      ]
     },
     "metadata": {
      "needs_background": "light"
     },
     "output_type": "display_data"
    }
   ],
   "source": [
    "%matplotlib inline\n",
    "\n",
    "import matplotlib.image as mpimg\n",
    "import matplotlib.pyplot as plt\n",
    "\n",
    "imgplot = plt.imshow(X_train[3,:,:],cmap='viridis')\n",
    "plt.show()\n",
    "imgplot = plt.imshow(X_train[16,:,:],cmap='viridis')\n",
    "plt.show()\n",
    "imgplot = plt.imshow(X_train[1,:,:],cmap='plasma')\n",
    "plt.show()\n",
    "imgplot = plt.imshow(X_train[9,:,:],cmap='magma')\n",
    "plt.show()"
   ]
  },
  {
   "cell_type": "code",
   "execution_count": 5,
   "metadata": {},
   "outputs": [],
   "source": [
    "X_train = X_train.reshape(X_train.shape[0], 28, 28, 1)\n",
    "X_test = X_test.reshape(X_test.shape[0], 28, 28, 1)"
   ]
  },
  {
   "cell_type": "code",
   "execution_count": 6,
   "metadata": {},
   "outputs": [
    {
     "name": "stdout",
     "output_type": "stream",
     "text": [
      "(60000, 28, 28, 1)\n",
      "(10000, 28, 28, 1)\n"
     ]
    }
   ],
   "source": [
    "print(X_train.shape)\n",
    "print(X_test.shape)"
   ]
  },
  {
   "cell_type": "code",
   "execution_count": 7,
   "metadata": {},
   "outputs": [],
   "source": [
    "# simply normalize the features to the range of [0,1]:\n",
    "X_train = X_train.astype('float32')\n",
    "X_test = X_test.astype('float32')\n",
    "X_train /= 255\n",
    "X_test /= 255"
   ]
  },
  {
   "cell_type": "code",
   "execution_count": 8,
   "metadata": {},
   "outputs": [
    {
     "name": "stdout",
     "output_type": "stream",
     "text": [
      "(60000,)\n",
      "[9 0 0 3 0 2 7 2 5 5]\n"
     ]
    }
   ],
   "source": [
    "# output label:\n",
    "print (y_train.shape)\n",
    "print (y_train[:10])"
   ]
  },
  {
   "cell_type": "code",
   "execution_count": 9,
   "metadata": {},
   "outputs": [],
   "source": [
    "# OneHotEncoding for the output label:\n",
    "y_train = np_utils.to_categorical(y_train, 10)\n",
    "y_test = np_utils.to_categorical(y_test, 10)\n"
   ]
  },
  {
   "cell_type": "code",
   "execution_count": 10,
   "metadata": {},
   "outputs": [
    {
     "name": "stdout",
     "output_type": "stream",
     "text": [
      "(60000, 10)\n",
      "[[0. 0. 0. 0. 0. 0. 0. 0. 0. 1.]\n",
      " [1. 0. 0. 0. 0. 0. 0. 0. 0. 0.]\n",
      " [1. 0. 0. 0. 0. 0. 0. 0. 0. 0.]\n",
      " [0. 0. 0. 1. 0. 0. 0. 0. 0. 0.]\n",
      " [1. 0. 0. 0. 0. 0. 0. 0. 0. 0.]\n",
      " [0. 0. 1. 0. 0. 0. 0. 0. 0. 0.]\n",
      " [0. 0. 0. 0. 0. 0. 0. 1. 0. 0.]\n",
      " [0. 0. 1. 0. 0. 0. 0. 0. 0. 0.]\n",
      " [0. 0. 0. 0. 0. 1. 0. 0. 0. 0.]\n",
      " [0. 0. 0. 0. 0. 1. 0. 0. 0. 0.]]\n"
     ]
    }
   ],
   "source": [
    "# Label after OneHotEncoding:\n",
    "print (y_train.shape)\n",
    "print (y_train[:10])"
   ]
  },
  {
   "cell_type": "code",
   "execution_count": 11,
   "metadata": {},
   "outputs": [],
   "source": [
    "#fix random seed\n",
    "np.random.seed(0)"
   ]
  },
  {
   "cell_type": "markdown",
   "metadata": {},
   "source": [
    "## Define the Network Architecture (model):"
   ]
  },
  {
   "cell_type": "code",
   "execution_count": 12,
   "metadata": {},
   "outputs": [],
   "source": [
    "# Declare Sequential model fro our network:\n",
    "model = Sequential()"
   ]
  },
  {
   "cell_type": "code",
   "execution_count": 13,
   "metadata": {},
   "outputs": [
    {
     "name": "stdout",
     "output_type": "stream",
     "text": [
      "WARNING:tensorflow:From D:\\Users\\j05h1\\Anaconda3\\lib\\site-packages\\tensorflow\\python\\framework\\op_def_library.py:263: colocate_with (from tensorflow.python.framework.ops) is deprecated and will be removed in a future version.\n",
      "Instructions for updating:\n",
      "Colocations handled automatically by placer.\n",
      "(None, 26, 26, 32)\n"
     ]
    }
   ],
   "source": [
    "# CNN first layer (with 32 3x3 filter):\n",
    "model.add(Convolution2D(32, (3, 3), activation='relu', input_shape=(28,28,1)))\n",
    "print(model.output_shape) # -> (None, 26, 26, 32)\n",
    "\n",
    "\n",
    "\n",
    "# If your image batch is of N images of HxW size with C channels: \n",
    "# theano uses the NCHW ordering while tensorflow uses the NHWC ordering."
   ]
  },
  {
   "cell_type": "code",
   "execution_count": 14,
   "metadata": {},
   "outputs": [
    {
     "name": "stdout",
     "output_type": "stream",
     "text": [
      "(None, 24, 24, 32)\n",
      "(None, 12, 12, 32)\n",
      "WARNING:tensorflow:From D:\\Users\\j05h1\\Anaconda3\\lib\\site-packages\\keras\\backend\\tensorflow_backend.py:3445: calling dropout (from tensorflow.python.ops.nn_ops) with keep_prob is deprecated and will be removed in a future version.\n",
      "Instructions for updating:\n",
      "Please use `rate` instead of `keep_prob`. Rate should be set to `rate = 1 - keep_prob`.\n"
     ]
    }
   ],
   "source": [
    "# more hidden layers:\n",
    "model.add(Convolution2D(32, (3, 3), activation='relu'))\n",
    "print(model.output_shape)\n",
    "\n",
    "# Pooling Layer:\n",
    "model.add(MaxPooling2D(pool_size=(2,2)))\n",
    "print(model.output_shape)\n",
    "\n",
    "# Dropout layer to avoid overfitting\n",
    "model.add(Dropout(0.25)) \n"
   ]
  },
  {
   "cell_type": "code",
   "execution_count": 15,
   "metadata": {},
   "outputs": [
    {
     "name": "stdout",
     "output_type": "stream",
     "text": [
      "(None, 10, 10, 32)\n",
      "(None, 5, 5, 32)\n"
     ]
    }
   ],
   "source": [
    "# more hidden layers:\n",
    "model.add(Convolution2D(32, (3, 3), activation='relu'))\n",
    "print(model.output_shape)\n",
    "\n",
    "# Pooling Layer:\n",
    "model.add(MaxPooling2D(pool_size=(2,2)))\n",
    "print(model.output_shape)\n",
    "\n",
    "# Dropout layer to avoid overfitting\n",
    "model.add(Dropout(0.2)) "
   ]
  },
  {
   "cell_type": "code",
   "execution_count": 16,
   "metadata": {},
   "outputs": [
    {
     "name": "stdout",
     "output_type": "stream",
     "text": [
      "(None, 800)\n",
      "(None, 128)\n",
      "(None, 10)\n"
     ]
    }
   ],
   "source": [
    "# output Fully connected Dense layers:\n",
    "model.add(Flatten())\n",
    "print(model.output_shape)\n",
    "\n",
    "model.add(Dense(128, activation='relu'))\n",
    "print(model.output_shape)\n",
    "\n",
    "model.add(Dropout(0.5))\n",
    "model.add(Dense(10, activation='softmax'))\n",
    "print(model.output_shape)"
   ]
  },
  {
   "cell_type": "markdown",
   "metadata": {},
   "source": [
    "## Compile the model:\n",
    "#### We need to compile the model and then it will be ready to train it:"
   ]
  },
  {
   "cell_type": "code",
   "execution_count": 17,
   "metadata": {},
   "outputs": [
    {
     "name": "stdout",
     "output_type": "stream",
     "text": [
      "_________________________________________________________________\n",
      "Layer (type)                 Output Shape              Param #   \n",
      "=================================================================\n",
      "conv2d_1 (Conv2D)            (None, 26, 26, 32)        320       \n",
      "_________________________________________________________________\n",
      "conv2d_2 (Conv2D)            (None, 24, 24, 32)        9248      \n",
      "_________________________________________________________________\n",
      "max_pooling2d_1 (MaxPooling2 (None, 12, 12, 32)        0         \n",
      "_________________________________________________________________\n",
      "dropout_1 (Dropout)          (None, 12, 12, 32)        0         \n",
      "_________________________________________________________________\n",
      "conv2d_3 (Conv2D)            (None, 10, 10, 32)        9248      \n",
      "_________________________________________________________________\n",
      "max_pooling2d_2 (MaxPooling2 (None, 5, 5, 32)          0         \n",
      "_________________________________________________________________\n",
      "dropout_2 (Dropout)          (None, 5, 5, 32)          0         \n",
      "_________________________________________________________________\n",
      "flatten_1 (Flatten)          (None, 800)               0         \n",
      "_________________________________________________________________\n",
      "dense_1 (Dense)              (None, 128)               102528    \n",
      "_________________________________________________________________\n",
      "dropout_3 (Dropout)          (None, 128)               0         \n",
      "_________________________________________________________________\n",
      "dense_2 (Dense)              (None, 10)                1290      \n",
      "=================================================================\n",
      "Total params: 122,634\n",
      "Trainable params: 122,634\n",
      "Non-trainable params: 0\n",
      "_________________________________________________________________\n",
      "None\n"
     ]
    }
   ],
   "source": [
    "model.compile(loss='categorical_crossentropy',metrics=['accuracy'],\n",
    "              optimizer='adam')\n",
    "# more info about loss functions: https://keras.io/losses\n",
    "# more infor about Optimizers: https://keras.io/optimizers\n",
    "\n",
    "print(model.summary())"
   ]
  },
  {
   "cell_type": "markdown",
   "metadata": {},
   "source": [
    "## Training:"
   ]
  },
  {
   "cell_type": "code",
   "execution_count": 18,
   "metadata": {
    "scrolled": true
   },
   "outputs": [
    {
     "name": "stdout",
     "output_type": "stream",
     "text": [
      "WARNING:tensorflow:From D:\\Users\\j05h1\\Anaconda3\\lib\\site-packages\\tensorflow\\python\\ops\\math_ops.py:3066: to_int32 (from tensorflow.python.ops.math_ops) is deprecated and will be removed in a future version.\n",
      "Instructions for updating:\n",
      "Use tf.cast instead.\n",
      "Epoch 1/150\n",
      "60000/60000 [==============================] - 44s 732us/step - loss: 0.7528 - acc: 0.7207\n",
      "Epoch 2/150\n",
      "60000/60000 [==============================] - 45s 753us/step - loss: 0.4864 - acc: 0.8228\n",
      "Epoch 3/150\n",
      "60000/60000 [==============================] - 45s 756us/step - loss: 0.4135 - acc: 0.8475\n",
      "Epoch 4/150\n",
      "60000/60000 [==============================] - 45s 755us/step - loss: 0.3688 - acc: 0.8659\n",
      "Epoch 5/150\n",
      "60000/60000 [==============================] - 45s 756us/step - loss: 0.3469 - acc: 0.8734\n",
      "Epoch 6/150\n",
      "60000/60000 [==============================] - 46s 759us/step - loss: 0.3275 - acc: 0.8818\n",
      "Epoch 7/150\n",
      "60000/60000 [==============================] - 46s 760us/step - loss: 0.3102 - acc: 0.8881\n",
      "Epoch 8/150\n",
      "60000/60000 [==============================] - 45s 757us/step - loss: 0.2957 - acc: 0.8924\n",
      "Epoch 9/150\n",
      "60000/60000 [==============================] - 46s 759us/step - loss: 0.2862 - acc: 0.8960\n",
      "Epoch 10/150\n",
      "60000/60000 [==============================] - 46s 760us/step - loss: 0.2787 - acc: 0.8989\n",
      "Epoch 11/150\n",
      "60000/60000 [==============================] - 46s 760us/step - loss: 0.2693 - acc: 0.9029\n",
      "Epoch 12/150\n",
      "60000/60000 [==============================] - 46s 760us/step - loss: 0.2621 - acc: 0.9045\n",
      "Epoch 13/150\n",
      "60000/60000 [==============================] - 45s 757us/step - loss: 0.2579 - acc: 0.9057\n",
      "Epoch 14/150\n",
      "60000/60000 [==============================] - 45s 758us/step - loss: 0.2526 - acc: 0.9079\n",
      "Epoch 15/150\n",
      "60000/60000 [==============================] - 45s 758us/step - loss: 0.2494 - acc: 0.9096\n",
      "Epoch 16/150\n",
      "60000/60000 [==============================] - 45s 756us/step - loss: 0.2404 - acc: 0.9130\n",
      "Epoch 17/150\n",
      "60000/60000 [==============================] - 45s 757us/step - loss: 0.2395 - acc: 0.9125\n",
      "Epoch 18/150\n",
      "60000/60000 [==============================] - 46s 759us/step - loss: 0.2357 - acc: 0.9145\n",
      "Epoch 19/150\n",
      "60000/60000 [==============================] - 46s 764us/step - loss: 0.2311 - acc: 0.9154\n",
      "Epoch 20/150\n",
      "60000/60000 [==============================] - 45s 758us/step - loss: 0.2303 - acc: 0.9154\n",
      "Epoch 21/150\n",
      "60000/60000 [==============================] - 46s 761us/step - loss: 0.2238 - acc: 0.9170\n",
      "Epoch 22/150\n",
      "60000/60000 [==============================] - 46s 759us/step - loss: 0.2220 - acc: 0.9191\n",
      "Epoch 23/150\n",
      "60000/60000 [==============================] - 45s 758us/step - loss: 0.2200 - acc: 0.9189\n",
      "Epoch 24/150\n",
      "60000/60000 [==============================] - 45s 757us/step - loss: 0.2177 - acc: 0.9201\n",
      "Epoch 25/150\n",
      "60000/60000 [==============================] - 45s 755us/step - loss: 0.2166 - acc: 0.9201\n",
      "Epoch 26/150\n",
      "60000/60000 [==============================] - 45s 758us/step - loss: 0.2130 - acc: 0.9212\n",
      "Epoch 27/150\n",
      "60000/60000 [==============================] - 45s 756us/step - loss: 0.2087 - acc: 0.9240\n",
      "Epoch 28/150\n",
      "60000/60000 [==============================] - 45s 756us/step - loss: 0.2066 - acc: 0.9228\n",
      "Epoch 29/150\n",
      "60000/60000 [==============================] - 45s 757us/step - loss: 0.2084 - acc: 0.9223\n",
      "Epoch 30/150\n",
      "60000/60000 [==============================] - 45s 755us/step - loss: 0.2049 - acc: 0.9241\n",
      "Epoch 31/150\n",
      "60000/60000 [==============================] - 45s 757us/step - loss: 0.2025 - acc: 0.9241\n",
      "Epoch 32/150\n",
      "60000/60000 [==============================] - 45s 754us/step - loss: 0.2024 - acc: 0.9247\n",
      "Epoch 33/150\n",
      "60000/60000 [==============================] - 45s 753us/step - loss: 0.1994 - acc: 0.9257\n",
      "Epoch 34/150\n",
      "60000/60000 [==============================] - 45s 755us/step - loss: 0.1974 - acc: 0.9256\n",
      "Epoch 35/150\n",
      "60000/60000 [==============================] - 45s 752us/step - loss: 0.1995 - acc: 0.9257\n",
      "Epoch 36/150\n",
      "60000/60000 [==============================] - 45s 756us/step - loss: 0.1951 - acc: 0.9280\n",
      "Epoch 37/150\n",
      "60000/60000 [==============================] - 45s 754us/step - loss: 0.1960 - acc: 0.9265\n",
      "Epoch 38/150\n",
      "60000/60000 [==============================] - 45s 755us/step - loss: 0.1899 - acc: 0.9296\n",
      "Epoch 39/150\n",
      "60000/60000 [==============================] - 45s 757us/step - loss: 0.1899 - acc: 0.9290\n",
      "Epoch 40/150\n",
      "60000/60000 [==============================] - 45s 755us/step - loss: 0.1888 - acc: 0.9307\n",
      "Epoch 41/150\n",
      "60000/60000 [==============================] - 45s 758us/step - loss: 0.1895 - acc: 0.9278\n",
      "Epoch 42/150\n",
      "60000/60000 [==============================] - 45s 756us/step - loss: 0.1881 - acc: 0.9295\n",
      "Epoch 43/150\n",
      "60000/60000 [==============================] - 45s 754us/step - loss: 0.1867 - acc: 0.9305\n",
      "Epoch 44/150\n",
      "60000/60000 [==============================] - 45s 753us/step - loss: 0.1840 - acc: 0.9318\n",
      "Epoch 45/150\n",
      "60000/60000 [==============================] - 45s 754us/step - loss: 0.1843 - acc: 0.9319\n",
      "Epoch 46/150\n",
      "60000/60000 [==============================] - 45s 754us/step - loss: 0.1845 - acc: 0.9309\n",
      "Epoch 47/150\n",
      "60000/60000 [==============================] - 46s 759us/step - loss: 0.1805 - acc: 0.9323\n",
      "Epoch 48/150\n",
      "60000/60000 [==============================] - 45s 753us/step - loss: 0.1817 - acc: 0.9320\n",
      "Epoch 49/150\n",
      "60000/60000 [==============================] - 45s 755us/step - loss: 0.1825 - acc: 0.9319\n",
      "Epoch 50/150\n",
      "60000/60000 [==============================] - 45s 753us/step - loss: 0.1791 - acc: 0.9326\n",
      "Epoch 51/150\n",
      "60000/60000 [==============================] - 45s 752us/step - loss: 0.1791 - acc: 0.9331\n",
      "Epoch 52/150\n",
      "60000/60000 [==============================] - 45s 754us/step - loss: 0.1817 - acc: 0.9310\n",
      "Epoch 53/150\n",
      "60000/60000 [==============================] - 45s 754us/step - loss: 0.1792 - acc: 0.9333\n",
      "Epoch 54/150\n",
      "60000/60000 [==============================] - 45s 755us/step - loss: 0.1786 - acc: 0.9349\n",
      "Epoch 55/150\n",
      "60000/60000 [==============================] - 45s 753us/step - loss: 0.1755 - acc: 0.9350\n",
      "Epoch 56/150\n",
      "60000/60000 [==============================] - 45s 754us/step - loss: 0.1746 - acc: 0.9341\n",
      "Epoch 57/150\n",
      "60000/60000 [==============================] - 45s 754us/step - loss: 0.1753 - acc: 0.9345\n",
      "Epoch 58/150\n",
      "60000/60000 [==============================] - 45s 755us/step - loss: 0.1738 - acc: 0.9342\n",
      "Epoch 59/150\n",
      "60000/60000 [==============================] - 45s 756us/step - loss: 0.1738 - acc: 0.9346\n",
      "Epoch 60/150\n",
      "60000/60000 [==============================] - 45s 756us/step - loss: 0.1737 - acc: 0.9343\n",
      "Epoch 61/150\n",
      "60000/60000 [==============================] - 45s 756us/step - loss: 0.1740 - acc: 0.9359\n",
      "Epoch 62/150\n",
      "60000/60000 [==============================] - 45s 756us/step - loss: 0.1735 - acc: 0.9348\n",
      "Epoch 63/150\n",
      "60000/60000 [==============================] - 45s 758us/step - loss: 0.1726 - acc: 0.9350\n",
      "Epoch 64/150\n",
      "60000/60000 [==============================] - 45s 755us/step - loss: 0.1710 - acc: 0.9352\n",
      "Epoch 65/150\n",
      "60000/60000 [==============================] - 45s 755us/step - loss: 0.1679 - acc: 0.9373\n",
      "Epoch 66/150\n",
      "60000/60000 [==============================] - 45s 758us/step - loss: 0.1700 - acc: 0.9366\n",
      "Epoch 67/150\n",
      "60000/60000 [==============================] - 45s 755us/step - loss: 0.1687 - acc: 0.9359\n",
      "Epoch 68/150\n",
      "60000/60000 [==============================] - 45s 757us/step - loss: 0.1678 - acc: 0.9366\n",
      "Epoch 69/150\n",
      "60000/60000 [==============================] - 45s 757us/step - loss: 0.1657 - acc: 0.9388\n",
      "Epoch 70/150\n",
      "60000/60000 [==============================] - 45s 757us/step - loss: 0.1670 - acc: 0.9373\n",
      "Epoch 71/150\n",
      "60000/60000 [==============================] - 46s 758us/step - loss: 0.1623 - acc: 0.9393\n",
      "Epoch 72/150\n",
      "60000/60000 [==============================] - 45s 758us/step - loss: 0.1649 - acc: 0.9375\n",
      "Epoch 73/150\n",
      "60000/60000 [==============================] - 45s 756us/step - loss: 0.1661 - acc: 0.9380\n",
      "Epoch 74/150\n",
      "60000/60000 [==============================] - 45s 757us/step - loss: 0.1663 - acc: 0.9378\n",
      "Epoch 75/150\n",
      "60000/60000 [==============================] - 45s 754us/step - loss: 0.1665 - acc: 0.9375\n",
      "Epoch 76/150\n",
      "60000/60000 [==============================] - 45s 756us/step - loss: 0.1650 - acc: 0.9374\n",
      "Epoch 77/150\n"
     ]
    },
    {
     "name": "stdout",
     "output_type": "stream",
     "text": [
      "60000/60000 [==============================] - 45s 748us/step - loss: 0.1638 - acc: 0.9383\n",
      "Epoch 78/150\n",
      "60000/60000 [==============================] - 45s 751us/step - loss: 0.1633 - acc: 0.9387\n",
      "Epoch 79/150\n",
      "60000/60000 [==============================] - 45s 750us/step - loss: 0.1677 - acc: 0.9372\n",
      "Epoch 80/150\n",
      "60000/60000 [==============================] - 45s 749us/step - loss: 0.1613 - acc: 0.9401\n",
      "Epoch 81/150\n",
      "60000/60000 [==============================] - 45s 752us/step - loss: 0.1602 - acc: 0.9393\n",
      "Epoch 82/150\n",
      "60000/60000 [==============================] - 45s 751us/step - loss: 0.1603 - acc: 0.9401\n",
      "Epoch 83/150\n",
      "60000/60000 [==============================] - 45s 749us/step - loss: 0.1591 - acc: 0.9387\n",
      "Epoch 84/150\n",
      "60000/60000 [==============================] - 45s 749us/step - loss: 0.1591 - acc: 0.9396\n",
      "Epoch 85/150\n",
      "60000/60000 [==============================] - 45s 751us/step - loss: 0.1609 - acc: 0.9399\n",
      "Epoch 86/150\n",
      "60000/60000 [==============================] - 45s 752us/step - loss: 0.1595 - acc: 0.9401\n",
      "Epoch 87/150\n",
      "60000/60000 [==============================] - 45s 749us/step - loss: 0.1615 - acc: 0.9390\n",
      "Epoch 88/150\n",
      "60000/60000 [==============================] - 45s 749us/step - loss: 0.1604 - acc: 0.9397\n",
      "Epoch 89/150\n",
      "60000/60000 [==============================] - 45s 753us/step - loss: 0.1592 - acc: 0.9397\n",
      "Epoch 90/150\n",
      "60000/60000 [==============================] - 45s 750us/step - loss: 0.1582 - acc: 0.9400\n",
      "Epoch 91/150\n",
      "60000/60000 [==============================] - 45s 750us/step - loss: 0.1592 - acc: 0.9396\n",
      "Epoch 92/150\n",
      "60000/60000 [==============================] - 45s 752us/step - loss: 0.1574 - acc: 0.9404\n",
      "Epoch 93/150\n",
      "60000/60000 [==============================] - 45s 750us/step - loss: 0.1578 - acc: 0.9423\n",
      "Epoch 94/150\n",
      "60000/60000 [==============================] - 45s 751us/step - loss: 0.1580 - acc: 0.9410\n",
      "Epoch 95/150\n",
      "60000/60000 [==============================] - 45s 748us/step - loss: 0.1570 - acc: 0.9405\n",
      "Epoch 96/150\n",
      "60000/60000 [==============================] - 45s 748us/step - loss: 0.1563 - acc: 0.9410\n",
      "Epoch 97/150\n",
      "60000/60000 [==============================] - 45s 752us/step - loss: 0.1548 - acc: 0.9414\n",
      "Epoch 98/150\n",
      "60000/60000 [==============================] - 45s 754us/step - loss: 0.1560 - acc: 0.9415\n",
      "Epoch 99/150\n",
      "60000/60000 [==============================] - 45s 750us/step - loss: 0.1543 - acc: 0.94142s - l\n",
      "Epoch 100/150\n",
      "60000/60000 [==============================] - 45s 748us/step - loss: 0.1545 - acc: 0.9424\n",
      "Epoch 101/150\n",
      "60000/60000 [==============================] - 45s 750us/step - loss: 0.1558 - acc: 0.9415\n",
      "Epoch 102/150\n",
      "60000/60000 [==============================] - 45s 752us/step - loss: 0.1548 - acc: 0.9417\n",
      "Epoch 103/150\n",
      "60000/60000 [==============================] - 45s 751us/step - loss: 0.1527 - acc: 0.9420\n",
      "Epoch 104/150\n",
      "60000/60000 [==============================] - 45s 751us/step - loss: 0.1539 - acc: 0.9425\n",
      "Epoch 105/150\n",
      "60000/60000 [==============================] - 45s 751us/step - loss: 0.1523 - acc: 0.9421\n",
      "Epoch 106/150\n",
      "60000/60000 [==============================] - 46s 762us/step - loss: 0.1528 - acc: 0.9427\n",
      "Epoch 107/150\n",
      "60000/60000 [==============================] - 45s 758us/step - loss: 0.1526 - acc: 0.9419\n",
      "Epoch 108/150\n",
      "60000/60000 [==============================] - 46s 761us/step - loss: 0.1544 - acc: 0.9424\n",
      "Epoch 109/150\n",
      "60000/60000 [==============================] - 45s 758us/step - loss: 0.1516 - acc: 0.9428\n",
      "Epoch 110/150\n",
      "60000/60000 [==============================] - 45s 758us/step - loss: 0.1517 - acc: 0.9426\n",
      "Epoch 111/150\n",
      "60000/60000 [==============================] - 46s 761us/step - loss: 0.1527 - acc: 0.9428\n",
      "Epoch 112/150\n",
      "60000/60000 [==============================] - 46s 759us/step - loss: 0.1533 - acc: 0.9417\n",
      "Epoch 113/150\n",
      "60000/60000 [==============================] - 46s 759us/step - loss: 0.1483 - acc: 0.9432\n",
      "Epoch 114/150\n",
      "60000/60000 [==============================] - 45s 756us/step - loss: 0.1552 - acc: 0.9412\n",
      "Epoch 115/150\n",
      "60000/60000 [==============================] - 45s 758us/step - loss: 0.1518 - acc: 0.9427\n",
      "Epoch 116/150\n",
      "60000/60000 [==============================] - 45s 756us/step - loss: 0.1540 - acc: 0.9414\n",
      "Epoch 117/150\n",
      "60000/60000 [==============================] - 45s 757us/step - loss: 0.1501 - acc: 0.9431\n",
      "Epoch 118/150\n",
      "60000/60000 [==============================] - ETA: 0s - loss: 0.1509 - acc: 0.943 - 45s 755us/step - loss: 0.1509 - acc: 0.9437\n",
      "Epoch 119/150\n",
      "60000/60000 [==============================] - 46s 761us/step - loss: 0.1504 - acc: 0.9442\n",
      "Epoch 120/150\n",
      "60000/60000 [==============================] - 46s 758us/step - loss: 0.1491 - acc: 0.9434\n",
      "Epoch 121/150\n",
      "60000/60000 [==============================] - 46s 761us/step - loss: 0.1513 - acc: 0.9429\n",
      "Epoch 122/150\n",
      "60000/60000 [==============================] - 46s 762us/step - loss: 0.1491 - acc: 0.9437\n",
      "Epoch 123/150\n",
      "60000/60000 [==============================] - 45s 757us/step - loss: 0.1508 - acc: 0.9438\n",
      "Epoch 124/150\n",
      "60000/60000 [==============================] - 45s 758us/step - loss: 0.1496 - acc: 0.9438\n",
      "Epoch 125/150\n",
      "60000/60000 [==============================] - 46s 760us/step - loss: 0.1478 - acc: 0.9445\n",
      "Epoch 126/150\n",
      "60000/60000 [==============================] - 45s 757us/step - loss: 0.1483 - acc: 0.9454\n",
      "Epoch 127/150\n",
      "60000/60000 [==============================] - 46s 767us/step - loss: 0.1486 - acc: 0.9439\n",
      "Epoch 128/150\n",
      "60000/60000 [==============================] - 46s 760us/step - loss: 0.1467 - acc: 0.9432\n",
      "Epoch 129/150\n",
      "60000/60000 [==============================] - 45s 757us/step - loss: 0.1495 - acc: 0.9440\n",
      "Epoch 130/150\n",
      "60000/60000 [==============================] - 45s 757us/step - loss: 0.1479 - acc: 0.9443\n",
      "Epoch 131/150\n",
      "60000/60000 [==============================] - 45s 755us/step - loss: 0.1476 - acc: 0.9451\n",
      "Epoch 132/150\n",
      "60000/60000 [==============================] - 45s 757us/step - loss: 0.1487 - acc: 0.9441\n",
      "Epoch 133/150\n",
      "60000/60000 [==============================] - 45s 753us/step - loss: 0.1462 - acc: 0.9451\n",
      "Epoch 134/150\n",
      "60000/60000 [==============================] - 45s 756us/step - loss: 0.1457 - acc: 0.9455\n",
      "Epoch 135/150\n",
      "60000/60000 [==============================] - 45s 756us/step - loss: 0.1498 - acc: 0.9439\n",
      "Epoch 136/150\n",
      "60000/60000 [==============================] - 45s 757us/step - loss: 0.1466 - acc: 0.9454\n",
      "Epoch 137/150\n",
      "60000/60000 [==============================] - 45s 754us/step - loss: 0.1449 - acc: 0.9449\n",
      "Epoch 138/150\n",
      "60000/60000 [==============================] - 46s 759us/step - loss: 0.1455 - acc: 0.9442\n",
      "Epoch 139/150\n",
      "60000/60000 [==============================] - 45s 758us/step - loss: 0.1466 - acc: 0.9448\n",
      "Epoch 140/150\n",
      "60000/60000 [==============================] - 45s 758us/step - loss: 0.1439 - acc: 0.9453\n",
      "Epoch 141/150\n",
      "60000/60000 [==============================] - 45s 757us/step - loss: 0.1465 - acc: 0.9455\n",
      "Epoch 142/150\n",
      "60000/60000 [==============================] - 46s 759us/step - loss: 0.1454 - acc: 0.9450\n",
      "Epoch 143/150\n",
      "60000/60000 [==============================] - 45s 758us/step - loss: 0.1447 - acc: 0.9458\n",
      "Epoch 144/150\n",
      "60000/60000 [==============================] - 45s 758us/step - loss: 0.1431 - acc: 0.9463\n",
      "Epoch 145/150\n",
      "60000/60000 [==============================] - 46s 759us/step - loss: 0.1455 - acc: 0.9448\n",
      "Epoch 146/150\n",
      "60000/60000 [==============================] - 46s 759us/step - loss: 0.1455 - acc: 0.9445\n",
      "Epoch 147/150\n",
      "60000/60000 [==============================] - 46s 759us/step - loss: 0.1438 - acc: 0.9461\n",
      "Epoch 148/150\n",
      "60000/60000 [==============================] - 46s 759us/step - loss: 0.1380 - acc: 0.9469\n",
      "Epoch 149/150\n",
      "60000/60000 [==============================] - 46s 764us/step - loss: 0.1405 - acc: 0.9463\n",
      "Epoch 150/150\n",
      "60000/60000 [==============================] - 46s 760us/step - loss: 0.1427 - acc: 0.9457\n"
     ]
    }
   ],
   "source": [
    "history = model.fit(X_train, y_train, batch_size=128, epochs=150, verbose=1)\n",
    "# history = model.fit(X_train, y_train, validation_split=0.25, batch_size=32, epochs=15, verbose=1)\n",
    "\n",
    "# batch_size: Integer or None. Number of samples per gradient update. \n",
    "# epochs: Number of iteration over the entire x and y data provided. \n",
    "# verbose: 0, 1, or 2. how want to see the training progress. 0 = silent, 1 = progress bar, 2 = one line per epoch.\n",
    "# validation_split: Float between 0 and 1. Fraction of the training data to be used as validation data. \n",
    "# You can add some callbacks to get a view on internal states and statistics of the model during training:\n",
    "# https://keras.io/callbacks/     "
   ]
  },
  {
   "cell_type": "code",
   "execution_count": 19,
   "metadata": {},
   "outputs": [],
   "source": [
    "# Training with Validation:\n",
    "# from keras.callbacks import EarlyStopping\n",
    "# early_stopping = EarlyStopping(monitor='val_loss', patience=2)\n",
    "# fitted_model = model.fit(X_train, y_train, validation_split=0.25, batch_size=32, epochs=15, verbose=1)"
   ]
  },
  {
   "cell_type": "code",
   "execution_count": 23,
   "metadata": {},
   "outputs": [
    {
     "data": {
      "text/plain": [
       "<matplotlib.legend.Legend at 0x22e0a1abf60>"
      ]
     },
     "execution_count": 23,
     "metadata": {},
     "output_type": "execute_result"
    },
    {
     "data": {
      "image/png": "[encoded data removed]",
      "text/plain": [
       "<Figure size 432x288 with 1 Axes>"
      ]
     },
     "metadata": {
      "needs_background": "light"
     },
     "output_type": "display_data"
    },
    {
     "data": {
      "image/png": "[encoded data removed]",
      "text/plain": [
       "<Figure size 432x288 with 1 Axes>"
      ]
     },
     "metadata": {
      "needs_background": "light"
     },
     "output_type": "display_data"
    }
   ],
   "source": [
    "import matplotlib.pyplot as plt\n",
    "\n",
    "%matplotlib inline\n",
    "\n",
    "accuracy = history.history['acc']\n",
    "#val_accuracy = history.history['val_acc']\n",
    "loss = history.history['loss']\n",
    "#val_loss = history.history['val_loss']\n",
    "epochs = range(len(accuracy))\n",
    "plt.plot(epochs, accuracy, 'b-', label='Training accuracy')\n",
    "#plt.plot(epochs, val_accuracy, 'b', label='Validation accuracy')\n",
    "plt.title('Training and validation accuracy')\n",
    "plt.legend()\n",
    "plt.figure()\n",
    "plt.plot(epochs, loss, 'r-', label='Training loss')\n",
    "#plt.plot(epochs, val_loss, 'b', label='Validation loss')\n",
    "plt.title('Training and validation loss')\n",
    "plt.legend()\n",
    "# plt.show()"
   ]
  },
  {
   "cell_type": "markdown",
   "metadata": {},
   "source": [
    "## Testing:"
   ]
  },
  {
   "cell_type": "code",
   "execution_count": 25,
   "metadata": {},
   "outputs": [],
   "source": [
    "predicted_classes = model.predict_classes(X_test)"
   ]
  },
  {
   "cell_type": "code",
   "execution_count": 26,
   "metadata": {},
   "outputs": [
    {
     "name": "stdout",
     "output_type": "stream",
     "text": [
      "10000/10000 [==============================] - 3s 256us/step\n",
      "The accuracy is:  0.928\n"
     ]
    }
   ],
   "source": [
    "# Testing:\n",
    "score = model.evaluate(X_test, y_test, verbose=1)\n",
    "print('The accuracy is: ', score[1])"
   ]
  },
  {
   "cell_type": "code",
   "execution_count": null,
   "metadata": {},
   "outputs": [],
   "source": []
  }
 ],
 "metadata": {
  "kernelspec": {
   "display_name": "Python 3",
   "language": "python",
   "name": "python3"
  },
  "language_info": {
   "codemirror_mode": {
    "name": "ipython",
    "version": 3
   },
   "file_extension": ".py",
   "mimetype": "text/x-python",
   "name": "python",
   "nbconvert_exporter": "python",
   "pygments_lexer": "ipython3",
   "version": "3.7.1"
  }
 },
 "nbformat": 4,
 "nbformat_minor": 2
}
