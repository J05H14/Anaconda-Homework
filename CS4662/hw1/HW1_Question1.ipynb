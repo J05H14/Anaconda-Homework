{
 "cells": [
  {
   "cell_type": "markdown",
   "metadata": {},
   "source": [
    "Importing needed Libraries"
   ]
  },
  {
   "cell_type": "code",
   "execution_count": 31,
   "metadata": {},
   "outputs": [],
   "source": [
    "import numpy as np\n",
    "import pandas as pd\n",
    "import matplotlib.pyplot as plt\n",
    "\n",
    "\n",
    "from sklearn.model_selection import train_test_split\n",
    "from sklearn.tree import DecisionTreeClassifier\n",
    "from sklearn.metrics import accuracy_score\n",
    "from sklearn.linear_model import LogisticRegression\n",
    "from sklearn.metrics import auc\n",
    "from sklearn.metrics import roc_curve\n",
    "from sklearn.utils import resample\n",
    "from sklearn.ensemble import AdaBoostClassifier\n",
    "from xgboost import XGBClassifier\n",
    "from sklearn.ensemble import RandomForestClassifier"
   ]
  },
  {
   "cell_type": "markdown",
   "metadata": {},
   "source": [
    "Part A. Reading the Dataset File"
   ]
  },
  {
   "cell_type": "code",
   "execution_count": 2,
   "metadata": {},
   "outputs": [
    {
     "data": {
      "text/html": [
       "<div>\n",
       "<style scoped>\n",
       "    .dataframe tbody tr th:only-of-type {\n",
       "        vertical-align: middle;\n",
       "    }\n",
       "\n",
       "    .dataframe tbody tr th {\n",
       "        vertical-align: top;\n",
       "    }\n",
       "\n",
       "    .dataframe thead th {\n",
       "        text-align: right;\n",
       "    }\n",
       "</style>\n",
       "<table border=\"1\" class=\"dataframe\">\n",
       "  <thead>\n",
       "    <tr style=\"text-align: right;\">\n",
       "      <th></th>\n",
       "      <th>Clump_Thickness</th>\n",
       "      <th>Uniformity_of_Cell_Size</th>\n",
       "      <th>Uniformity_of_Cell_Shape</th>\n",
       "      <th>Marginal_Adhesion</th>\n",
       "      <th>Single_Epithelial_Cell_Size</th>\n",
       "      <th>Bare_Nuclei</th>\n",
       "      <th>Bland_Chromatin</th>\n",
       "      <th>Normal_Nucleoli</th>\n",
       "      <th>Mitoses</th>\n",
       "      <th>Malignant_Cancer</th>\n",
       "    </tr>\n",
       "  </thead>\n",
       "  <tbody>\n",
       "    <tr>\n",
       "      <th>0</th>\n",
       "      <td>5</td>\n",
       "      <td>1</td>\n",
       "      <td>1</td>\n",
       "      <td>1</td>\n",
       "      <td>2</td>\n",
       "      <td>1</td>\n",
       "      <td>3</td>\n",
       "      <td>1</td>\n",
       "      <td>1</td>\n",
       "      <td>0</td>\n",
       "    </tr>\n",
       "    <tr>\n",
       "      <th>1</th>\n",
       "      <td>5</td>\n",
       "      <td>4</td>\n",
       "      <td>4</td>\n",
       "      <td>5</td>\n",
       "      <td>7</td>\n",
       "      <td>10</td>\n",
       "      <td>3</td>\n",
       "      <td>2</td>\n",
       "      <td>1</td>\n",
       "      <td>0</td>\n",
       "    </tr>\n",
       "    <tr>\n",
       "      <th>2</th>\n",
       "      <td>3</td>\n",
       "      <td>1</td>\n",
       "      <td>1</td>\n",
       "      <td>1</td>\n",
       "      <td>2</td>\n",
       "      <td>2</td>\n",
       "      <td>3</td>\n",
       "      <td>1</td>\n",
       "      <td>1</td>\n",
       "      <td>0</td>\n",
       "    </tr>\n",
       "    <tr>\n",
       "      <th>3</th>\n",
       "      <td>6</td>\n",
       "      <td>8</td>\n",
       "      <td>8</td>\n",
       "      <td>1</td>\n",
       "      <td>3</td>\n",
       "      <td>4</td>\n",
       "      <td>3</td>\n",
       "      <td>7</td>\n",
       "      <td>1</td>\n",
       "      <td>0</td>\n",
       "    </tr>\n",
       "    <tr>\n",
       "      <th>4</th>\n",
       "      <td>4</td>\n",
       "      <td>1</td>\n",
       "      <td>1</td>\n",
       "      <td>3</td>\n",
       "      <td>2</td>\n",
       "      <td>1</td>\n",
       "      <td>3</td>\n",
       "      <td>1</td>\n",
       "      <td>1</td>\n",
       "      <td>0</td>\n",
       "    </tr>\n",
       "  </tbody>\n",
       "</table>\n",
       "</div>"
      ],
      "text/plain": [
       "   Clump_Thickness  Uniformity_of_Cell_Size  Uniformity_of_Cell_Shape  \\\n",
       "0                5                        1                         1   \n",
       "1                5                        4                         4   \n",
       "2                3                        1                         1   \n",
       "3                6                        8                         8   \n",
       "4                4                        1                         1   \n",
       "\n",
       "   Marginal_Adhesion  Single_Epithelial_Cell_Size  Bare_Nuclei  \\\n",
       "0                  1                            2            1   \n",
       "1                  5                            7           10   \n",
       "2                  1                            2            2   \n",
       "3                  1                            3            4   \n",
       "4                  3                            2            1   \n",
       "\n",
       "   Bland_Chromatin  Normal_Nucleoli  Mitoses  Malignant_Cancer  \n",
       "0                3                1        1                 0  \n",
       "1                3                2        1                 0  \n",
       "2                3                1        1                 0  \n",
       "3                3                7        1                 0  \n",
       "4                3                1        1                 0  "
      ]
     },
     "execution_count": 2,
     "metadata": {},
     "output_type": "execute_result"
    }
   ],
   "source": [
    "df = pd.read_csv(\"Cancer.csv\")\n",
    "df.head()"
   ]
  },
  {
   "cell_type": "markdown",
   "metadata": {},
   "source": [
    "Part B. Spliting into trainning and testing sets"
   ]
  },
  {
   "cell_type": "code",
   "execution_count": 3,
   "metadata": {},
   "outputs": [],
   "source": [
    "features = [\"Clump_Thickness\", \"Uniformity_of_Cell_Size\", \"Uniformity_of_Cell_Shape\", \"Marginal_Adhesion\", \"Single_Epithelial_Cell_Size\", \"Bare_Nuclei\", \"Bland_Chromatin\", \"Normal_Nucleoli\", \"Mitoses\"]\n",
    "X = df[features]\n",
    "y = df[\"Malignant_Cancer\"]\n",
    "X_train, X_test, y_train, y_test = train_test_split(X, y, test_size=0.3, random_state=2)"
   ]
  },
  {
   "cell_type": "markdown",
   "metadata": {},
   "source": [
    "Part C. Predict using Decision Tree Classifier, obtain accuracy and AUC and show ROC Curve"
   ]
  },
  {
   "cell_type": "code",
   "execution_count": 4,
   "metadata": {},
   "outputs": [
    {
     "name": "stdout",
     "output_type": "stream",
     "text": [
      "Accuracy Score: 0.8666666666666667\n"
     ]
    }
   ],
   "source": [
    "#creating the decision tree\n",
    "my_DecisionTree = DecisionTreeClassifier(random_state=2)\n",
    "#training the decision tree\n",
    "my_DecisionTree.fit(X_train, y_train)\n",
    "#predict y using decision tree\n",
    "y_predict_dt = my_DecisionTree.predict(X_test)\n",
    "#obtain score for decision tree\n",
    "dt_score = accuracy_score(y_test, y_predict_dt)\n",
    "print (\"Accuracy Score: \" + str(dt_score))"
   ]
  },
  {
   "cell_type": "code",
   "execution_count": 5,
   "metadata": {},
   "outputs": [],
   "source": [
    "y_predict_prob_dt = my_DecisionTree.predict_proba(X_test)\n",
    "fpr, tpr, thresholds = roc_curve(y_test, y_predict_prob_dt[:,1], pos_label=1)\n",
    "AUC = auc(fpr, tpr)"
   ]
  },
  {
   "cell_type": "markdown",
   "metadata": {},
   "source": [
    "Part D. Bagging Based on 29 Decision Trees and Use Voting to decide"
   ]
  },
  {
   "cell_type": "markdown",
   "metadata": {},
   "source": [
    "Bagging"
   ]
  },
  {
   "cell_type": "code",
   "execution_count": 7,
   "metadata": {},
   "outputs": [],
   "source": [
    "#Combining X_train and y_train because bootstrap_data will need the labels to train\n",
    "training = pd.concat([X_train, y_train], axis=1)\n",
    "prediction_results = [] #results of each prediction will go here\n",
    "\n",
    "bootstrap_size = int(0.8 * X_train['Clump_Thickness'].count())\n",
    "\n",
    "\n",
    "#for-loop to perform the bootstrapping\n",
    "for i in range (0,29):\n",
    "    bootstrap_data = resample(training, n_samples = bootstrap_size , random_state=i, replace = True) #obtaining the bootstrap data\n",
    "    #separating the features with their labels for the bootstrap_data\n",
    "    bs_X = bootstrap_data[features]\n",
    "    bs_y = bootstrap_data['Malignant_Cancer']\n",
    "    #creating and traininf a decision tree using the bootstrap_data and predicting using those results\n",
    "    base_DecisionTree = DecisionTreeClassifier(random_state=2)\n",
    "    base_DecisionTree.fit(bs_X, bs_y)\n",
    "    base_y_predict = base_DecisionTree.predict(X_test)\n",
    "    prediction_results.append(base_y_predict) #appending each prediction to the list of predictions\n"
   ]
  },
  {
   "cell_type": "markdown",
   "metadata": {},
   "source": [
    "Voting"
   ]
  },
  {
   "cell_type": "code",
   "execution_count": 8,
   "metadata": {},
   "outputs": [],
   "source": [
    "#Function to add the rows together\n",
    "def getMaj(row):\n",
    "    majority = 0\n",
    "    for i in range(29):\n",
    "        majority = majority + predict_df['Prediction_' + str(i)][row:row+1]\n",
    "    return majority"
   ]
  },
  {
   "cell_type": "code",
   "execution_count": 58,
   "metadata": {},
   "outputs": [
    {
     "name": "stdout",
     "output_type": "stream",
     "text": [
      "Accuracy Score: 0.9111111111111111\n"
     ]
    }
   ],
   "source": [
    "#Creating a new data frame containing the results of each prediction\n",
    "predict_df = pd.DataFrame()\n",
    "for i in range (len(prediction_results)):\n",
    "    predict_df['Prediction_' + str(i) ] = prediction_results[i]\n",
    "\n",
    "rows = predict_df['Prediction_0'].count()\n",
    "col = len(predict_df.columns)\n",
    "\n",
    "#List to keep track of the majority value of each row\n",
    "majority_res = []\n",
    "\n",
    "#Obtaining the majority for each row\n",
    "for i in range(rows):\n",
    "    if int(getMaj(i)) > col/2:\n",
    "        majority_res.append(1)\n",
    "    else:\n",
    "        majority_res.append(0)\n",
    "\n",
    "#Adding the column in the prediction dataframe with all the majorities\n",
    "predict_df['Majority'] = majority_res\n",
    "\n",
    "#Calculating the score using the Majority obtained from voting\n",
    "maj_score = accuracy_score(y_test, predict_df['Majority'])\n",
    "print('Accuracy Score: ' + str(maj_score))"
   ]
  },
  {
   "cell_type": "code",
   "execution_count": 10,
   "metadata": {},
   "outputs": [],
   "source": [
    "avg_predictions = pd.Series([])\n",
    "for i in range(rows):\n",
    "    avg = getMaj(i) / 45\n",
    "    avg_predictions = avg_predictions.append(avg)"
   ]
  },
  {
   "cell_type": "code",
   "execution_count": 57,
   "metadata": {},
   "outputs": [],
   "source": [
    "y_predict_prob_b = avg_predictions\n",
    "fpr2, tpr2, threshold2s = roc_curve(y_test, y_predict_prob_b, pos_label=1)\n",
    "AUC2 = auc(fpr2, tpr2)"
   ]
  },
  {
   "cell_type": "markdown",
   "metadata": {},
   "source": [
    "Part E. Predict Using AdaBoost Classifier"
   ]
  },
  {
   "cell_type": "code",
   "execution_count": 22,
   "metadata": {},
   "outputs": [
    {
     "name": "stdout",
     "output_type": "stream",
     "text": [
      "Accuracy Score: 0.9555555555555556\n"
     ]
    }
   ],
   "source": [
    "#creating the ada boost\n",
    "my_AdaBoost = AdaBoostClassifier(n_estimators = 29,random_state=2)\n",
    "#training with the classifier\n",
    "my_AdaBoost.fit(X_train, y_train)\n",
    "#predicting the testing set\n",
    "y_predict_ada = my_AdaBoost.predict(X_test)\n",
    "#calculating the accuracy of the classifier\n",
    "ada_score = accuracy_score(y_test, y_predict_ada)\n",
    "#printing out the accuracy score\n",
    "print(\"Accuracy Score: \" + str(ada_score))"
   ]
  },
  {
   "cell_type": "code",
   "execution_count": 30,
   "metadata": {},
   "outputs": [
    {
     "name": "stdout",
     "output_type": "stream",
     "text": [
      "AUC: 0.9653361344537815\n"
     ]
    }
   ],
   "source": [
    "y_predict_prob_ada = my_AdaBoost.predict_proba(X_test)\n",
    "fpr3, tpr3, thresholds3 = roc_curve(y_test, y_predict_prob_ada[:,1], pos_label=1)\n",
    "AUC3 = auc(fpr3, tpr3)\n",
    "print('AUC: ' + str(AUC3))"
   ]
  },
  {
   "cell_type": "markdown",
   "metadata": {},
   "source": [
    "Part F. Predicting Using XGBClassifier"
   ]
  },
  {
   "cell_type": "code",
   "execution_count": 20,
   "metadata": {},
   "outputs": [
    {
     "name": "stdout",
     "output_type": "stream",
     "text": [
      "Accuracy Score: 0.9555555555555556\n"
     ]
    },
    {
     "name": "stderr",
     "output_type": "stream",
     "text": [
      "D:\\Users\\j05h1\\Anaconda3\\lib\\site-packages\\sklearn\\preprocessing\\label.py:151: DeprecationWarning: The truth value of an empty array is ambiguous. Returning False, but in future this will result in an error. Use `array.size > 0` to check that an array is not empty.\n",
      "  if diff:\n"
     ]
    }
   ],
   "source": [
    "#creating the XGBoost\n",
    "my_XGBoost = XGBClassifier(n_estimators = 29,random_state=2)\n",
    "#training with the classifier\n",
    "my_XGBoost.fit(X_train, y_train)\n",
    "#predicting the testing set\n",
    "y_predict_xgb = my_XGBoost.predict(X_test)\n",
    "#calculating the accuracy of the classifier\n",
    "xgb_score = accuracy_score(y_test, y_predict_xgb)\n",
    "#printing out the accuracy score\n",
    "print(\"Accuracy Score: \" + str(xgb_score))"
   ]
  },
  {
   "cell_type": "code",
   "execution_count": 29,
   "metadata": {},
   "outputs": [
    {
     "name": "stdout",
     "output_type": "stream",
     "text": [
      "AUC: 0.9621848739495799\n"
     ]
    }
   ],
   "source": [
    "y_predict_prob_xgb = my_XGBoost.predict_proba(X_test)\n",
    "fpr4, tpr4, thresholds4 = roc_curve(y_test, y_predict_prob_xgb[:,1], pos_label=1)\n",
    "AUC4 = auc(fpr4, tpr4)\n",
    "print('AUC: ' + str(AUC4))"
   ]
  },
  {
   "cell_type": "markdown",
   "metadata": {},
   "source": [
    "Part G. Predicting Using Random Forest Classifier"
   ]
  },
  {
   "cell_type": "code",
   "execution_count": 34,
   "metadata": {},
   "outputs": [
    {
     "name": "stdout",
     "output_type": "stream",
     "text": [
      "Random Forest Score: 0.9555555555555556\n"
     ]
    }
   ],
   "source": [
    "my_RandomForest = RandomForestClassifier(n_estimators = 29, bootstrap = True, random_state=2)\n",
    "\n",
    "#Training and Predicting using Random Forest\n",
    "my_RandomForest.fit(X_train, y_train)\n",
    "y_predict_rf = my_RandomForest.predict(X_test)\n",
    "\n",
    "#calculating accuracy score of random forest\n",
    "rf_score = accuracy_score(y_test, y_predict_rf)\n",
    "\n",
    "#print random forest score\n",
    "print(\"Accuracy Score: \" + str(rf_score))"
   ]
  },
  {
   "cell_type": "code",
   "execution_count": 44,
   "metadata": {},
   "outputs": [
    {
     "name": "stdout",
     "output_type": "stream",
     "text": [
      "AUC: 0.9516806722689075\n"
     ]
    }
   ],
   "source": [
    "y_predict_prob_rf = my_RandomForest.predict_proba(X_test)\n",
    "fpr5, tpr5, thresholds5 = roc_curve(y_test, y_predict_prob_rf[:,1], pos_label=1)\n",
    "AUC5 = auc(fpr5, tpr5)\n",
    "print('AUC: ' + str(AUC5))"
   ]
  },
  {
   "cell_type": "markdown",
   "metadata": {},
   "source": [
    "Part H. Plot the ROC Curves for each Classifier used"
   ]
  },
  {
   "cell_type": "code",
   "execution_count": 45,
   "metadata": {},
   "outputs": [
    {
     "data": {
      "image/png": "[encoded data removed]",
      "text/plain": [
       "<Figure size 432x288 with 1 Axes>"
      ]
     },
     "metadata": {},
     "output_type": "display_data"
    }
   ],
   "source": [
    "%matplotlib inline\n",
    "\n",
    "plt.figure()\n",
    "\n",
    "# Roc Curve:\n",
    "plt.plot(fpr, tpr, color='aqua', lw=2, \n",
    "         label='Decision Tree (area = %0.2f)' % AUC)\n",
    "\n",
    "# Roc Curve:\n",
    "plt.plot(fpr2, tpr2, color='purple', lw=2, \n",
    "         label='Bagging Curve (area = %0.2f)' % AUC2)\n",
    "\n",
    "# Roc Curve:\n",
    "plt.plot(fpr3, tpr3, color='yellow', lw=2, \n",
    "         label='AdaBoost Curve (area = %0.2f)' % AUC3)\n",
    "\n",
    "# Roc Curve:\n",
    "plt.plot(fpr4, tpr4, color='green', lw=2, \n",
    "         label='XGBoost Curve (area = %0.2f)' % AUC4)\n",
    "\n",
    "# Roc Curve:\n",
    "plt.plot(fpr5, tpr5, color='red', lw=2, \n",
    "         label='Random Forest Curve (area = %0.2f)' % AUC5)\n",
    "\n",
    "# Random Guess line:\n",
    "plt.plot([0, 1], [0, 1], color='blue', lw=1, linestyle='--')\n",
    "\n",
    "# Defining The Range of X-Axis and Y-Axis:\n",
    "plt.xlim([-0.005, 1.005])\n",
    "plt.ylim([0.0, 1.01])\n",
    "\n",
    "# Labels, Title, Legend:\n",
    "plt.xlabel('False Positive Rate')\n",
    "plt.ylabel('True Positive Rate')\n",
    "plt.title('Cancer Predictor')\n",
    "plt.legend(loc=\"lower right\")\n",
    "\n",
    "plt.show()"
   ]
  },
  {
   "cell_type": "code",
   "execution_count": 48,
   "metadata": {},
   "outputs": [
    {
     "name": "stdout",
     "output_type": "stream",
     "text": [
      "Decision Tree Score: 0.8666666666666667\n",
      "Bagging/Voting Score: 0.9111111111111111\n",
      "AdaBoost Score: 0.9555555555555556\n",
      "XGBoost Score: 0.9555555555555556\n",
      "Random Forest Score: 0.9555555555555556\n"
     ]
    }
   ],
   "source": [
    "print (\"Decision Tree Score: \" + str(dt_score))\n",
    "print (\"Bagging/Voting Score: \" + str(maj_score))\n",
    "print (\"AdaBoost Score: \" + str(ada_score))\n",
    "print (\"XGBoost Score: \" + str(xgb_score))\n",
    "print (\"Random Forest Score: \" + str(rf_score))"
   ]
  },
  {
   "cell_type": "code",
   "execution_count": 49,
   "metadata": {},
   "outputs": [
    {
     "name": "stdout",
     "output_type": "stream",
     "text": [
      "Decision Tree AUC: 0.8697478991596639\n",
      "Bagging/Voting AUC: 0.9380252100840336\n",
      "AdaBoost AUC: 0.9653361344537815\n",
      "XGBoost AUC: 0.9621848739495799\n",
      "Random Forest AUC: 0.9516806722689075\n"
     ]
    }
   ],
   "source": [
    "print (\"Decision Tree AUC: \" + str(AUC))\n",
    "print (\"Bagging/Voting AUC: \" + str(AUC2))\n",
    "print (\"AdaBoost AUC: \" + str(AUC3))\n",
    "print (\"XGBoost AUC: \" + str(AUC4))\n",
    "print (\"Random Forest AUC: \" + str(AUC5))"
   ]
  },
  {
   "cell_type": "markdown",
   "metadata": {},
   "source": [
    "Which algorithm is the best w.r.t the AUC value? AdaBoost\n"
   ]
  },
  {
   "cell_type": "markdown",
   "metadata": {},
   "source": [
    "Which algorithm is the best w.r.t the Accuracy value? Tie between AdaBoost, XGBoost, and Random Forest"
   ]
  },
  {
   "cell_type": "markdown",
   "metadata": {},
   "source": [
    "Which algorithm is the best when we want a False Positive Rate of %7? Any except Decision Tree"
   ]
  },
  {
   "cell_type": "code",
   "execution_count": null,
   "metadata": {},
   "outputs": [],
   "source": []
  }
 ],
 "metadata": {
  "kernelspec": {
   "display_name": "Python 3",
   "language": "python",
   "name": "python3"
  },
  "language_info": {
   "codemirror_mode": {
    "name": "ipython",
    "version": 3
   },
   "file_extension": ".py",
   "mimetype": "text/x-python",
   "name": "python",
   "nbconvert_exporter": "python",
   "pygments_lexer": "ipython3",
   "version": "3.6.5"
  }
 },
 "nbformat": 4,
 "nbformat_minor": 2
}
