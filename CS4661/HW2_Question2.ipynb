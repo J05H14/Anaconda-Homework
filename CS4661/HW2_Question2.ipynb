{
 "cells": [
  {
   "cell_type": "code",
   "execution_count": 1,
   "metadata": {},
   "outputs": [],
   "source": [
    "#importing numpy and pandas\n",
    "import numpy as np\n",
    "import pandas as pd"
   ]
  },
  {
   "cell_type": "code",
   "execution_count": 2,
   "metadata": {},
   "outputs": [],
   "source": [
    "#reading the csv from the link provided\n",
    "df = pd.read_csv('https://raw.githubusercontent.com/mpourhoma/CS4661/master/iris.csv') #PART A\n",
    "\n",
    "#got the columns of fetures\n",
    "feature_cols = ['sepal_length','sepal_width','petal_length','petal_width']\n",
    "#data frame with the fetures\n",
    "X = df[feature_cols]  \n",
    "\n",
    "#series with labels\n",
    "y = df['species']\n"
   ]
  },
  {
   "cell_type": "code",
   "execution_count": 3,
   "metadata": {},
   "outputs": [],
   "source": [
    "#getting sklearn for spliting\n",
    "from sklearn.model_selection import train_test_split\n",
    "#spliting into testing and training sets\n",
    "X_train, X_test, y_train, y_test = train_test_split(X, y, test_size=0.4, random_state=6) #PART B"
   ]
  },
  {
   "cell_type": "code",
   "execution_count": 4,
   "metadata": {},
   "outputs": [
    {
     "name": "stdout",
     "output_type": "stream",
     "text": [
      "0.9666666666666667\n"
     ]
    }
   ],
   "source": [
    "#PART C\n",
    "\n",
    "#define k =3 for knn classifier\n",
    "k = 3\n",
    "\n",
    "#getting sklearn for neighbors\n",
    "from sklearn.neighbors import KNeighborsClassifier\n",
    "\n",
    "#the knn classifier\n",
    "knn_hw = KNeighborsClassifier(n_neighbors = k)\n",
    "\n",
    "#fitting\n",
    "knn_hw.fit(X_train,y_train)\n",
    "\n",
    "#predicting\n",
    "y_predict = knn_hw.predict(X_test)\n",
    "#print(y_predict)\n",
    "\n",
    "#get sklearn for getting the accuracy of the prediction\n",
    "from sklearn.metrics import accuracy_score\n",
    "#using the accuracy_score function to find out how accurate the knn was\n",
    "score = accuracy_score(y_test, y_predict)\n",
    "#printing out the score\n",
    "print(score)"
   ]
  },
  {
   "cell_type": "code",
   "execution_count": 5,
   "metadata": {},
   "outputs": [
    {
     "name": "stdout",
     "output_type": "stream",
     "text": [
      "[0.95, 0.9833333333333333, 0.9666666666666667, 0.9666666666666667, 0.9333333333333333, 0.9166666666666666, 0.8166666666666667]\n"
     ]
    }
   ],
   "source": [
    "#PART D\n",
    "\n",
    "#creating a list of the scores that will contain the various scores for each knn with differing k values\n",
    "scores = []\n",
    "#getting the list of all possible k's (evey odd number between 1 and 60)\n",
    "ks =[1, 5, 7, 11, 15, 27, 59]\n",
    "#obtaining the training and testing data in case I run this after running the future data\n",
    "X_train, X_test, y_train, y_test = train_test_split(X, y, test_size=0.4, random_state=6)\n",
    "#getting the accuracy score for each k from 1-59\n",
    "for k1 in ks:\n",
    "    #the knn classifier\n",
    "    knn_hw = KNeighborsClassifier(n_neighbors = k1)\n",
    "    #fitting\n",
    "    knn_hw.fit(X_train,y_train)\n",
    "    #predicting\n",
    "    y_predict = knn_hw.predict(X_test)\n",
    "    #calculating the accuracy score\n",
    "    score = accuracy_score(y_test, y_predict)\n",
    "    #appending the score to the list of them\n",
    "    scores.append(score)\n",
    "#print out the full list of scores for every k\n",
    "print (scores)\n",
    "\n",
    "#larger k doesnt mean more accurate results because eventually, you would reach neighbors so far away, \n",
    "#that it can influence the results and can sometimes result in incorrect and inaccurate results\n"
   ]
  },
  {
   "cell_type": "code",
   "execution_count": 6,
   "metadata": {},
   "outputs": [
    {
     "name": "stdout",
     "output_type": "stream",
     "text": [
      "Accuracy with sepal_length: 0.7166666666666667\n",
      "Accuracy with sepal_width: 0.5666666666666667\n",
      "Accuracy with petal_length: 0.9333333333333333\n",
      "Accuracy with petal_width: 0.95\n"
     ]
    }
   ],
   "source": [
    "#PART E\n",
    "\n",
    "#k still equals 3\n",
    "\n",
    "#setting up the knn classifier with k=3\n",
    "knn1 = KNeighborsClassifier(n_neighbors = k)\n",
    "\n",
    "#separating the features to seperate dataframes to make a prediction based on just one of them\n",
    "X_1 = df[['sepal_length']] \n",
    "X_2 = df[['sepal_width']]\n",
    "X_3 = df[['petal_length']]\n",
    "X_4 = df[['petal_width']]\n",
    "\n",
    "#trainning testing and scoring for just the \"sepal_length\" feature\n",
    "X_train, X_test, y_train, y_test = train_test_split(X_1, y, test_size=0.4, random_state=6)\n",
    "knn1.fit(X_train,y_train)\n",
    "y_predict = knn1.predict(X_test)\n",
    "score = accuracy_score(y_test, y_predict)\n",
    "print(\"Accuracy with sepal_length: \" + str(score)) #print accuracy score of \"sepal_width\"\n",
    "\n",
    "#trainning testing and scoring for just the \"sepal_width\" feature\n",
    "X_train, X_test, y_train, y_test = train_test_split(X_2, y, test_size=0.4, random_state=6)\n",
    "knn1.fit(X_train,y_train)\n",
    "y_predict = knn1.predict(X_test)\n",
    "score = accuracy_score(y_test, y_predict)\n",
    "print(\"Accuracy with sepal_width: \" + str(score)) #print accuracy of \"sepal_length\"\n",
    "\n",
    "#trainning testing and scoring for just the \"petal_length\" feature\n",
    "X_train, X_test, y_train, y_test = train_test_split(X_3, y, test_size=0.4, random_state=6)\n",
    "knn1.fit(X_train,y_train)\n",
    "y_predict = knn1.predict(X_test)\n",
    "score = accuracy_score(y_test, y_predict)\n",
    "print(\"Accuracy with petal_length: \" + str(score)) #print accuracy of \"petal_length\"\n",
    "\n",
    "#trainning testing and scoring for just the \"petal_width\" feature\n",
    "X_train, X_test, y_train, y_test = train_test_split(X_4, y, test_size=0.4, random_state=6)\n",
    "knn1.fit(X_train,y_train)\n",
    "y_predict = knn1.predict(X_test)\n",
    "score = accuracy_score(y_test, y_predict)\n",
    "print(\"Accuracy with petal_width: \" + str(score)) #print accuracy score of \"petal_width\"\n",
    "\n",
    "#petal_width is the best feature that brings the best accuracy for prdictions, with petal_length being a close second\n"
   ]
  },
  {
   "cell_type": "code",
   "execution_count": 7,
   "metadata": {},
   "outputs": [
    {
     "name": "stdout",
     "output_type": "stream",
     "text": [
      "Accuracy with sepal_length and sepal_width: 0.8166666666666667\n",
      "Accuracy with sepal_length and petal_length: 0.9833333333333333\n",
      "Accuracy with sepal_length and petal_width: 0.95\n",
      "Accuracy with sepal_width and petal_length: 0.95\n",
      "Accuracy with sepal_width and petal_width: 0.95\n",
      "Accuracy with petal_length and petal_width: 0.9666666666666667\n"
     ]
    }
   ],
   "source": [
    "#PART F\n",
    "\n",
    "#Feature Pairs\n",
    "X_12 = df[['sepal_length', 'sepal_width']] #feature pair 1\n",
    "X_13 = df[['sepal_length', 'petal_length']] #feature pair 2\n",
    "X_14 = df[['sepal_length', 'petal_width']] #feature pair 3\n",
    "X_23 = df[['sepal_width', 'petal_length']] #feature pair 4\n",
    "X_24 = df[['sepal_width', 'petal_width']] #feature pair 5\n",
    "X_34 = df[['petal_length', 'petal_width']] #feature pair 6\n",
    "\n",
    "#trainning testing and scoring for just the \"sepal_length\" and \"sepal_width\" feature pair\n",
    "X_train, X_test, y_train, y_test = train_test_split(X_12, y, test_size=0.4, random_state=6) #getting training and testing data\n",
    "knn1.fit(X_train,y_train)\n",
    "y_predict = knn1.predict(X_test) #predicting test data based on training data\n",
    "score = accuracy_score(y_test, y_predict)\n",
    "print(\"Accuracy with sepal_length and sepal_width: \" + str(score)) #print the score of feature pair 1\n",
    "\n",
    "#trainning testing and scoring for just the \"sepal_length\" and \"petal_length\" feature pair\n",
    "X_train, X_test, y_train, y_test = train_test_split(X_13, y, test_size=0.4, random_state=6) #getting training and testing data\n",
    "knn1.fit(X_train,y_train)\n",
    "y_predict = knn1.predict(X_test) #predicting test data based on training data\n",
    "score = accuracy_score(y_test, y_predict)\n",
    "print(\"Accuracy with sepal_length and petal_length: \" + str(score)) #print the score of feature pair 2\n",
    "\n",
    "#trainning testing and scoring for just the \"sepal_length\" and \"petal_width\" feature pair\n",
    "X_train, X_test, y_train, y_test = train_test_split(X_14, y, test_size=0.4, random_state=6) #getting training and testing data\n",
    "knn1.fit(X_train,y_train)\n",
    "y_predict = knn1.predict(X_test) #predicting test data based on training data\n",
    "score = accuracy_score(y_test, y_predict)\n",
    "print(\"Accuracy with sepal_length and petal_width: \" + str(score)) #print the score of feature pair 3\n",
    "\n",
    "#trainning testing and scoring for just the \"sepal_width\" and \"petal_length\" feature pair\n",
    "X_train, X_test, y_train, y_test = train_test_split(X_23, y, test_size=0.4, random_state=6) #getting training and testing data\n",
    "knn1.fit(X_train,y_train)\n",
    "y_predict = knn1.predict(X_test) #predicting test data based on training data\n",
    "score = accuracy_score(y_test, y_predict)\n",
    "print(\"Accuracy with sepal_width and petal_length: \" + str(score)) #print the score of feature pair 4\n",
    "\n",
    "#trainning testing and scoring for just the \"sepal_width\" and \"petal_width\" feature pair\n",
    "X_train, X_test, y_train, y_test = train_test_split(X_24, y, test_size=0.4, random_state=6) #getting training and testing data\n",
    "knn1.fit(X_train,y_train)\n",
    "y_predict = knn1.predict(X_test) #predicting test data based on training data\n",
    "score = accuracy_score(y_test, y_predict)\n",
    "print(\"Accuracy with sepal_width and petal_width: \" + str(score)) #print the score of feature pair 5\n",
    "\n",
    "#trainning testing and scoring for just the \"petal_length\" and \"petal_width\" feature pair\n",
    "X_train, X_test, y_train, y_test = train_test_split(X_34, y, test_size=0.4, random_state=6) #getting training and testing data\n",
    "knn1.fit(X_train,y_train)\n",
    "y_predict = knn1.predict(X_test) #predicting test data based on training data\n",
    "score = accuracy_score(y_test, y_predict)\n",
    "print(\"Accuracy with petal_length and petal_width: \" + str(score)) #print the score of feature pair 6"
   ]
  },
  {
   "cell_type": "code",
   "execution_count": 8,
   "metadata": {},
   "outputs": [],
   "source": [
    "#PART G\n",
    "\n",
    "#The best feature pair is fetures 1+3 (sepal_length and petal_length)\n",
    "#We can conclude that the two individual best features combined is not nessesarily the best feature pair\n",
    "#because the best individual feature was not involved in the best feature pair"
   ]
  },
  {
   "cell_type": "code",
   "execution_count": 9,
   "metadata": {},
   "outputs": [],
   "source": [
    "#PART H\n",
    "\n",
    "#We conclude that because from our testing data, the 2 best individuals do not make the best pair\n",
    "#This is one of the cases where the whole is greater than the sum of its parts."
   ]
  }
 ],
 "metadata": {
  "kernelspec": {
   "display_name": "Python 3",
   "language": "python",
   "name": "python3"
  },
  "language_info": {
   "codemirror_mode": {
    "name": "ipython",
    "version": 3
   },
   "file_extension": ".py",
   "mimetype": "text/x-python",
   "name": "python",
   "nbconvert_exporter": "python",
   "pygments_lexer": "ipython3",
   "version": "3.6.5"
  }
 },
 "nbformat": 4,
 "nbformat_minor": 2
}
