{
 "cells": [
  {
   "cell_type": "markdown",
   "metadata": {},
   "source": [
    "# HW 4"
   ]
  },
  {
   "cell_type": "code",
   "execution_count": 1,
   "metadata": {},
   "outputs": [
    {
     "name": "stdout",
     "output_type": "stream",
     "text": [
      "      name of the file  digit label\n",
      "0                    0            0\n",
      "1                    1            1\n",
      "2                    2            2\n",
      "3                    3            3\n",
      "4                    4            4\n",
      "5                    5            5\n",
      "6                    6            6\n",
      "7                    7            7\n",
      "8                    8            8\n",
      "9                    9            9\n",
      "10                  10            0\n",
      "11                  11            1\n",
      "12                  12            2\n",
      "13                  13            3\n",
      "14                  14            4\n",
      "15                  15            5\n",
      "16                  16            6\n",
      "17                  17            7\n",
      "18                  18            8\n",
      "19                  19            9\n",
      "20                  20            0\n",
      "21                  21            1\n",
      "22                  22            2\n",
      "23                  23            3\n",
      "24                  24            4\n",
      "25                  25            5\n",
      "26                  26            6\n",
      "27                  27            7\n",
      "28                  28            8\n",
      "29                  29            9\n",
      "...                ...          ...\n",
      "1767              1767            4\n",
      "1768              1768            0\n",
      "1769              1769            5\n",
      "1770              1770            3\n",
      "1771              1771            6\n",
      "1772              1772            9\n",
      "1773              1773            6\n",
      "1774              1774            1\n",
      "1775              1775            7\n",
      "1776              1776            5\n",
      "1777              1777            4\n",
      "1778              1778            4\n",
      "1779              1779            7\n",
      "1780              1780            2\n",
      "1781              1781            8\n",
      "1782              1782            2\n",
      "1783              1783            2\n",
      "1784              1784            5\n",
      "1785              1785            7\n",
      "1786              1786            9\n",
      "1787              1787            5\n",
      "1788              1788            4\n",
      "1789              1789            8\n",
      "1790              1790            8\n",
      "1791              1791            4\n",
      "1792              1792            9\n",
      "1793              1793            0\n",
      "1794              1794            8\n",
      "1795              1795            9\n",
      "1796              1796            8\n",
      "\n",
      "[1797 rows x 2 columns]\n"
     ]
    }
   ],
   "source": [
    "import pandas as pd\n",
    "# create DataFrame:\n",
    "df = pd.DataFrame()\n",
    "df = pd.read_csv(\"label.csv\")\n",
    "print(df)"
   ]
  },
  {
   "cell_type": "code",
   "execution_count": 5,
   "metadata": {},
   "outputs": [],
   "source": [
    "import matplotlib.image as mpimg\n",
    "import matplotlib.pyplot as plt\n",
    "mpimg.imread(file_name)"
   ]
  },
  {
   "cell_type": "code",
   "execution_count": 6,
   "metadata": {},
   "outputs": [
    {
     "name": "stdout",
     "output_type": "stream",
     "text": [
      "0.8301886792452831\n"
     ]
    }
   ],
   "source": [
    "# Using Decision Tree to predict heart disease based on training/testing datasets. Then checking, comparing, and printing accuracy.\n",
    "from sklearn.tree import DecisionTreeClassifier\n",
    "my_decisiontree = DecisionTreeClassifier(random_state=3)\n",
    "my_decisiontree.fit(X, y)\n",
    "my_decisiontree.fit(X_train, y_train)\n",
    "y_predict_dt = my_decisiontree.predict(X_test)\n",
    "from sklearn.metrics import accuracy_score\n",
    "score_dt = accuracy_score(y_test, y_predict_dt)\n",
    "print(score_dt)"
   ]
  },
  {
   "cell_type": "code",
   "execution_count": 11,
   "metadata": {},
   "outputs": [
    {
     "name": "stdout",
     "output_type": "stream",
     "text": [
      "0.9245283018867925\n"
     ]
    }
   ],
   "source": [
    "# Random forest classifier to predict cancer.\n",
    "from sklearn.ensemble import RandomForestClassifier\n",
    "my_RandomForest = RandomForestClassifier(n_estimators = 19, bootstrap = True, random_state=3)\n",
    "my_RandomForest.fit(X_train, y_train)\n",
    "y_predict_dt = my_RandomForest.predict(X_test)\n",
    "score_dt = accuracy_score(y_test, y_predict_dt)\n",
    "print(score_dt)"
   ]
  }
 ],
 "metadata": {
  "kernelspec": {
   "display_name": "Python 3",
   "language": "python",
   "name": "python3"
  },
  "language_info": {
   "codemirror_mode": {
    "name": "ipython",
    "version": 3
   },
   "file_extension": ".py",
   "mimetype": "text/x-python",
   "name": "python",
   "nbconvert_exporter": "python",
   "pygments_lexer": "ipython3",
   "version": "3.6.5"
  }
 },
 "nbformat": 4,
 "nbformat_minor": 2
}
